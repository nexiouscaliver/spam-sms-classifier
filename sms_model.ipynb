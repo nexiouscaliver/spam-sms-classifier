{
  "cells": [
    {
      "cell_type": "markdown",
      "metadata": {
        "id": "view-in-github",
        "colab_type": "text"
      },
      "source": [
        "<a href=\"https://colab.research.google.com/github/nexiouscaliver/spam-sms-classifier/blob/main/sms_model.ipynb\" target=\"_parent\"><img src=\"https://colab.research.google.com/assets/colab-badge.svg\" alt=\"Open In Colab\"/></a>"
      ]
    },
    {
      "cell_type": "code",
      "execution_count": null,
      "id": "6756b4b5",
      "metadata": {
        "id": "6756b4b5"
      },
      "outputs": [],
      "source": [
        "import numpy as np\n",
        "import pandas as pd"
      ]
    },
    {
      "cell_type": "code",
      "execution_count": null,
      "id": "bc3ecc7e",
      "metadata": {
        "id": "bc3ecc7e"
      },
      "outputs": [],
      "source": [
        "df = pd.read_csv('spam2.csv')"
      ]
    },
    {
      "cell_type": "code",
      "execution_count": null,
      "id": "0630bc8f",
      "metadata": {
        "id": "0630bc8f",
        "outputId": "5df51c74-fabb-4d98-87d5-31a54acc9667"
      },
      "outputs": [
        {
          "data": {
            "text/html": [
              "<div>\n",
              "<style scoped>\n",
              "    .dataframe tbody tr th:only-of-type {\n",
              "        vertical-align: middle;\n",
              "    }\n",
              "\n",
              "    .dataframe tbody tr th {\n",
              "        vertical-align: top;\n",
              "    }\n",
              "\n",
              "    .dataframe thead th {\n",
              "        text-align: right;\n",
              "    }\n",
              "</style>\n",
              "<table border=\"1\" class=\"dataframe\">\n",
              "  <thead>\n",
              "    <tr style=\"text-align: right;\">\n",
              "      <th></th>\n",
              "      <th>v1</th>\n",
              "      <th>v2</th>\n",
              "      <th>Unnamed: 2</th>\n",
              "      <th>Unnamed: 3</th>\n",
              "      <th>Unnamed: 4</th>\n",
              "    </tr>\n",
              "  </thead>\n",
              "  <tbody>\n",
              "    <tr>\n",
              "      <th>2486</th>\n",
              "      <td>ham</td>\n",
              "      <td>I dont thnk its a wrong calling between us</td>\n",
              "      <td>NaN</td>\n",
              "      <td>NaN</td>\n",
              "      <td>NaN</td>\n",
              "    </tr>\n",
              "    <tr>\n",
              "      <th>1915</th>\n",
              "      <td>ham</td>\n",
              "      <td>Its not that time of the month nor mid of the ...</td>\n",
              "      <td>NaN</td>\n",
              "      <td>NaN</td>\n",
              "      <td>NaN</td>\n",
              "    </tr>\n",
              "    <tr>\n",
              "      <th>5198</th>\n",
              "      <td>ham</td>\n",
              "      <td>She.s fine. I have had difficulties with her p...</td>\n",
              "      <td>NaN</td>\n",
              "      <td>NaN</td>\n",
              "      <td>NaN</td>\n",
              "    </tr>\n",
              "    <tr>\n",
              "      <th>5142</th>\n",
              "      <td>ham</td>\n",
              "      <td>Now that you have started dont stop. Just pray...</td>\n",
              "      <td>NaN</td>\n",
              "      <td>NaN</td>\n",
              "      <td>NaN</td>\n",
              "    </tr>\n",
              "    <tr>\n",
              "      <th>1114</th>\n",
              "      <td>ham</td>\n",
              "      <td>No no:)this is kallis home ground.amla home to...</td>\n",
              "      <td>NaN</td>\n",
              "      <td>NaN</td>\n",
              "      <td>NaN</td>\n",
              "    </tr>\n",
              "  </tbody>\n",
              "</table>\n",
              "</div>"
            ],
            "text/plain": [
              "       v1                                                 v2 Unnamed: 2  \\\n",
              "2486  ham         I dont thnk its a wrong calling between us        NaN   \n",
              "1915  ham  Its not that time of the month nor mid of the ...        NaN   \n",
              "5198  ham  She.s fine. I have had difficulties with her p...        NaN   \n",
              "5142  ham  Now that you have started dont stop. Just pray...        NaN   \n",
              "1114  ham  No no:)this is kallis home ground.amla home to...        NaN   \n",
              "\n",
              "     Unnamed: 3 Unnamed: 4  \n",
              "2486        NaN        NaN  \n",
              "1915        NaN        NaN  \n",
              "5198        NaN        NaN  \n",
              "5142        NaN        NaN  \n",
              "1114        NaN        NaN  "
            ]
          },
          "execution_count": 3,
          "metadata": {},
          "output_type": "execute_result"
        }
      ],
      "source": [
        "df.sample(5)"
      ]
    },
    {
      "cell_type": "code",
      "execution_count": null,
      "id": "05e6daee",
      "metadata": {
        "id": "05e6daee",
        "outputId": "9ecabd45-e84e-4f38-8b0d-b27037970747"
      },
      "outputs": [
        {
          "data": {
            "text/plain": [
              "(5572, 5)"
            ]
          },
          "execution_count": 4,
          "metadata": {},
          "output_type": "execute_result"
        }
      ],
      "source": [
        "df.shape"
      ]
    },
    {
      "cell_type": "markdown",
      "id": "352bb752",
      "metadata": {
        "id": "352bb752"
      },
      "source": [
        " ## 1.Data Cleaning"
      ]
    },
    {
      "cell_type": "code",
      "execution_count": null,
      "id": "6e07e922",
      "metadata": {
        "id": "6e07e922",
        "outputId": "1986d226-bcc8-4cf3-8cc9-c9c444618162"
      },
      "outputs": [
        {
          "name": "stdout",
          "output_type": "stream",
          "text": [
            "<class 'pandas.core.frame.DataFrame'>\n",
            "RangeIndex: 5572 entries, 0 to 5571\n",
            "Data columns (total 5 columns):\n",
            " #   Column      Non-Null Count  Dtype \n",
            "---  ------      --------------  ----- \n",
            " 0   v1          5572 non-null   object\n",
            " 1   v2          5572 non-null   object\n",
            " 2   Unnamed: 2  50 non-null     object\n",
            " 3   Unnamed: 3  12 non-null     object\n",
            " 4   Unnamed: 4  6 non-null      object\n",
            "dtypes: object(5)\n",
            "memory usage: 217.8+ KB\n"
          ]
        }
      ],
      "source": [
        "df.info()"
      ]
    },
    {
      "cell_type": "code",
      "execution_count": null,
      "id": "2ae5ab33",
      "metadata": {
        "id": "2ae5ab33"
      },
      "outputs": [],
      "source": [
        "df.drop(columns=['Unnamed: 2','Unnamed: 3','Unnamed: 4'],inplace=True)"
      ]
    },
    {
      "cell_type": "code",
      "execution_count": null,
      "id": "c9e31581",
      "metadata": {
        "id": "c9e31581",
        "outputId": "c8e204c8-1b8d-4d75-f9ad-64b9c0a646ce"
      },
      "outputs": [
        {
          "data": {
            "text/html": [
              "<div>\n",
              "<style scoped>\n",
              "    .dataframe tbody tr th:only-of-type {\n",
              "        vertical-align: middle;\n",
              "    }\n",
              "\n",
              "    .dataframe tbody tr th {\n",
              "        vertical-align: top;\n",
              "    }\n",
              "\n",
              "    .dataframe thead th {\n",
              "        text-align: right;\n",
              "    }\n",
              "</style>\n",
              "<table border=\"1\" class=\"dataframe\">\n",
              "  <thead>\n",
              "    <tr style=\"text-align: right;\">\n",
              "      <th></th>\n",
              "      <th>v1</th>\n",
              "      <th>v2</th>\n",
              "    </tr>\n",
              "  </thead>\n",
              "  <tbody>\n",
              "    <tr>\n",
              "      <th>2786</th>\n",
              "      <td>ham</td>\n",
              "      <td>cThen i thk shd b enuff.. Still got conclusion...</td>\n",
              "    </tr>\n",
              "  </tbody>\n",
              "</table>\n",
              "</div>"
            ],
            "text/plain": [
              "       v1                                                 v2\n",
              "2786  ham  cThen i thk shd b enuff.. Still got conclusion..."
            ]
          },
          "execution_count": 7,
          "metadata": {},
          "output_type": "execute_result"
        }
      ],
      "source": [
        "df.sample()"
      ]
    },
    {
      "cell_type": "code",
      "execution_count": null,
      "id": "741ace6d",
      "metadata": {
        "id": "741ace6d",
        "outputId": "ba5da0fa-e1ec-416e-c93f-9cd2bc41ac82"
      },
      "outputs": [
        {
          "data": {
            "text/html": [
              "<div>\n",
              "<style scoped>\n",
              "    .dataframe tbody tr th:only-of-type {\n",
              "        vertical-align: middle;\n",
              "    }\n",
              "\n",
              "    .dataframe tbody tr th {\n",
              "        vertical-align: top;\n",
              "    }\n",
              "\n",
              "    .dataframe thead th {\n",
              "        text-align: right;\n",
              "    }\n",
              "</style>\n",
              "<table border=\"1\" class=\"dataframe\">\n",
              "  <thead>\n",
              "    <tr style=\"text-align: right;\">\n",
              "      <th></th>\n",
              "      <th>target</th>\n",
              "      <th>text</th>\n",
              "    </tr>\n",
              "  </thead>\n",
              "  <tbody>\n",
              "    <tr>\n",
              "      <th>4747</th>\n",
              "      <td>ham</td>\n",
              "      <td>The beauty of life is in next second.. which h...</td>\n",
              "    </tr>\n",
              "    <tr>\n",
              "      <th>131</th>\n",
              "      <td>ham</td>\n",
              "      <td>Dear, will call Tmorrow.pls accomodate.</td>\n",
              "    </tr>\n",
              "    <tr>\n",
              "      <th>3060</th>\n",
              "      <td>ham</td>\n",
              "      <td>What u talking bout early morning? It's almost...</td>\n",
              "    </tr>\n",
              "    <tr>\n",
              "      <th>4771</th>\n",
              "      <td>ham</td>\n",
              "      <td>Hi, Mobile no.  &amp;lt;#&amp;gt;  has added you in th...</td>\n",
              "    </tr>\n",
              "    <tr>\n",
              "      <th>5028</th>\n",
              "      <td>spam</td>\n",
              "      <td>I'd like to tell you my deepest darkest fantas...</td>\n",
              "    </tr>\n",
              "  </tbody>\n",
              "</table>\n",
              "</div>"
            ],
            "text/plain": [
              "     target                                               text\n",
              "4747    ham  The beauty of life is in next second.. which h...\n",
              "131     ham            Dear, will call Tmorrow.pls accomodate.\n",
              "3060    ham  What u talking bout early morning? It's almost...\n",
              "4771    ham  Hi, Mobile no.  &lt;#&gt;  has added you in th...\n",
              "5028   spam  I'd like to tell you my deepest darkest fantas..."
            ]
          },
          "execution_count": 8,
          "metadata": {},
          "output_type": "execute_result"
        }
      ],
      "source": [
        "df.rename(columns={'v1':'target','v2':'text'},inplace=True)\n",
        "df.sample(5)"
      ]
    },
    {
      "cell_type": "code",
      "execution_count": null,
      "id": "00e0872d",
      "metadata": {
        "id": "00e0872d"
      },
      "outputs": [],
      "source": [
        "from sklearn.preprocessing import LabelEncoder\n",
        "encoder = LabelEncoder()"
      ]
    },
    {
      "cell_type": "code",
      "execution_count": null,
      "id": "680e187e",
      "metadata": {
        "id": "680e187e"
      },
      "outputs": [],
      "source": [
        "df['target']=encoder.fit_transform(df['target'])"
      ]
    },
    {
      "cell_type": "code",
      "execution_count": null,
      "id": "8aba6e5b",
      "metadata": {
        "id": "8aba6e5b",
        "outputId": "82cacb33-fc20-4cd1-82a2-96fd4154bd79"
      },
      "outputs": [
        {
          "data": {
            "text/html": [
              "<div>\n",
              "<style scoped>\n",
              "    .dataframe tbody tr th:only-of-type {\n",
              "        vertical-align: middle;\n",
              "    }\n",
              "\n",
              "    .dataframe tbody tr th {\n",
              "        vertical-align: top;\n",
              "    }\n",
              "\n",
              "    .dataframe thead th {\n",
              "        text-align: right;\n",
              "    }\n",
              "</style>\n",
              "<table border=\"1\" class=\"dataframe\">\n",
              "  <thead>\n",
              "    <tr style=\"text-align: right;\">\n",
              "      <th></th>\n",
              "      <th>target</th>\n",
              "      <th>text</th>\n",
              "    </tr>\n",
              "  </thead>\n",
              "  <tbody>\n",
              "    <tr>\n",
              "      <th>0</th>\n",
              "      <td>0</td>\n",
              "      <td>Go until jurong point, crazy.. Available only ...</td>\n",
              "    </tr>\n",
              "    <tr>\n",
              "      <th>1</th>\n",
              "      <td>0</td>\n",
              "      <td>Ok lar... Joking wif u oni...</td>\n",
              "    </tr>\n",
              "    <tr>\n",
              "      <th>2</th>\n",
              "      <td>1</td>\n",
              "      <td>Free entry in 2 a wkly comp to win FA Cup fina...</td>\n",
              "    </tr>\n",
              "    <tr>\n",
              "      <th>3</th>\n",
              "      <td>0</td>\n",
              "      <td>U dun say so early hor... U c already then say...</td>\n",
              "    </tr>\n",
              "    <tr>\n",
              "      <th>4</th>\n",
              "      <td>0</td>\n",
              "      <td>Nah I don't think he goes to usf, he lives aro...</td>\n",
              "    </tr>\n",
              "  </tbody>\n",
              "</table>\n",
              "</div>"
            ],
            "text/plain": [
              "   target                                               text\n",
              "0       0  Go until jurong point, crazy.. Available only ...\n",
              "1       0                      Ok lar... Joking wif u oni...\n",
              "2       1  Free entry in 2 a wkly comp to win FA Cup fina...\n",
              "3       0  U dun say so early hor... U c already then say...\n",
              "4       0  Nah I don't think he goes to usf, he lives aro..."
            ]
          },
          "execution_count": 11,
          "metadata": {},
          "output_type": "execute_result"
        }
      ],
      "source": [
        "df.head()"
      ]
    },
    {
      "cell_type": "code",
      "execution_count": null,
      "id": "982d160e",
      "metadata": {
        "id": "982d160e",
        "outputId": "db2db0ea-ca3f-4ca5-fc15-1361d8a59c20"
      },
      "outputs": [
        {
          "data": {
            "text/plain": [
              "target    0\n",
              "text      0\n",
              "dtype: int64"
            ]
          },
          "execution_count": 12,
          "metadata": {},
          "output_type": "execute_result"
        }
      ],
      "source": [
        "df.isnull().sum()"
      ]
    },
    {
      "cell_type": "code",
      "execution_count": null,
      "id": "19ad28bd",
      "metadata": {
        "id": "19ad28bd",
        "outputId": "64151739-c0a4-4ba7-9e1f-dde201c02e4e"
      },
      "outputs": [
        {
          "data": {
            "text/plain": [
              "403"
            ]
          },
          "execution_count": 13,
          "metadata": {},
          "output_type": "execute_result"
        }
      ],
      "source": [
        "df.duplicated().sum()"
      ]
    },
    {
      "cell_type": "code",
      "execution_count": null,
      "id": "07e99d7b",
      "metadata": {
        "id": "07e99d7b"
      },
      "outputs": [],
      "source": [
        "df=df.drop_duplicates(keep='first')"
      ]
    },
    {
      "cell_type": "code",
      "execution_count": null,
      "id": "da6eca06",
      "metadata": {
        "id": "da6eca06",
        "outputId": "02f69ea1-1a8b-435e-8c22-1af207424fd3"
      },
      "outputs": [
        {
          "data": {
            "text/plain": [
              "(5169, 2)"
            ]
          },
          "execution_count": 15,
          "metadata": {},
          "output_type": "execute_result"
        }
      ],
      "source": [
        "df.shape"
      ]
    },
    {
      "cell_type": "markdown",
      "id": "57029712",
      "metadata": {
        "id": "57029712"
      },
      "source": [
        " ## 2.EDA"
      ]
    },
    {
      "cell_type": "code",
      "execution_count": null,
      "id": "fb725234",
      "metadata": {
        "id": "fb725234",
        "outputId": "6e783f4e-4228-4556-90ec-34e6a5d468e5"
      },
      "outputs": [
        {
          "data": {
            "text/html": [
              "<div>\n",
              "<style scoped>\n",
              "    .dataframe tbody tr th:only-of-type {\n",
              "        vertical-align: middle;\n",
              "    }\n",
              "\n",
              "    .dataframe tbody tr th {\n",
              "        vertical-align: top;\n",
              "    }\n",
              "\n",
              "    .dataframe thead th {\n",
              "        text-align: right;\n",
              "    }\n",
              "</style>\n",
              "<table border=\"1\" class=\"dataframe\">\n",
              "  <thead>\n",
              "    <tr style=\"text-align: right;\">\n",
              "      <th></th>\n",
              "      <th>target</th>\n",
              "      <th>text</th>\n",
              "    </tr>\n",
              "  </thead>\n",
              "  <tbody>\n",
              "    <tr>\n",
              "      <th>0</th>\n",
              "      <td>0</td>\n",
              "      <td>Go until jurong point, crazy.. Available only ...</td>\n",
              "    </tr>\n",
              "    <tr>\n",
              "      <th>1</th>\n",
              "      <td>0</td>\n",
              "      <td>Ok lar... Joking wif u oni...</td>\n",
              "    </tr>\n",
              "    <tr>\n",
              "      <th>2</th>\n",
              "      <td>1</td>\n",
              "      <td>Free entry in 2 a wkly comp to win FA Cup fina...</td>\n",
              "    </tr>\n",
              "    <tr>\n",
              "      <th>3</th>\n",
              "      <td>0</td>\n",
              "      <td>U dun say so early hor... U c already then say...</td>\n",
              "    </tr>\n",
              "    <tr>\n",
              "      <th>4</th>\n",
              "      <td>0</td>\n",
              "      <td>Nah I don't think he goes to usf, he lives aro...</td>\n",
              "    </tr>\n",
              "  </tbody>\n",
              "</table>\n",
              "</div>"
            ],
            "text/plain": [
              "   target                                               text\n",
              "0       0  Go until jurong point, crazy.. Available only ...\n",
              "1       0                      Ok lar... Joking wif u oni...\n",
              "2       1  Free entry in 2 a wkly comp to win FA Cup fina...\n",
              "3       0  U dun say so early hor... U c already then say...\n",
              "4       0  Nah I don't think he goes to usf, he lives aro..."
            ]
          },
          "execution_count": 16,
          "metadata": {},
          "output_type": "execute_result"
        }
      ],
      "source": [
        "df.head()"
      ]
    },
    {
      "cell_type": "code",
      "execution_count": null,
      "id": "9d0d51d0",
      "metadata": {
        "id": "9d0d51d0",
        "outputId": "80e8e916-f182-40c1-9938-3c8ee7cdcd13"
      },
      "outputs": [
        {
          "data": {
            "text/plain": [
              "0    4516\n",
              "1     653\n",
              "Name: target, dtype: int64"
            ]
          },
          "execution_count": 17,
          "metadata": {},
          "output_type": "execute_result"
        }
      ],
      "source": [
        "df['target'].value_counts()"
      ]
    },
    {
      "cell_type": "code",
      "execution_count": null,
      "id": "a3b5a3ac",
      "metadata": {
        "id": "a3b5a3ac"
      },
      "outputs": [],
      "source": [
        "import matplotlib.pyplot as plt"
      ]
    },
    {
      "cell_type": "code",
      "execution_count": null,
      "id": "eb61f83d",
      "metadata": {
        "id": "eb61f83d",
        "outputId": "b4133b39-c2d7-4b58-a397-2436d189650f"
      },
      "outputs": [
        {
          "data": {
            "image/png": "[encoded data removed]",
            "text/plain": [
              "<Figure size 432x288 with 1 Axes>"
            ]
          },
          "metadata": {},
          "output_type": "display_data"
        }
      ],
      "source": [
        "plt.pie(df['target'].value_counts(),labels=['ham','spam'],autopct=\"%0i\")\n",
        "plt.show()"
      ]
    },
    {
      "cell_type": "code",
      "execution_count": null,
      "id": "e66c2274",
      "metadata": {
        "id": "e66c2274"
      },
      "outputs": [],
      "source": [
        "import nltk"
      ]
    },
    {
      "cell_type": "code",
      "execution_count": null,
      "id": "fa40e256",
      "metadata": {
        "id": "fa40e256",
        "outputId": "4e92c3d5-2b3a-41d9-fa17-941abc1b0e55"
      },
      "outputs": [
        {
          "name": "stderr",
          "output_type": "stream",
          "text": [
            "[nltk_data] Downloading package punkt to\n",
            "[nltk_data]     C:\\Users\\HP\\AppData\\Roaming\\nltk_data...\n",
            "[nltk_data]   Package punkt is already up-to-date!\n"
          ]
        },
        {
          "data": {
            "text/plain": [
              "True"
            ]
          },
          "execution_count": 21,
          "metadata": {},
          "output_type": "execute_result"
        }
      ],
      "source": [
        "nltk.download('punkt')"
      ]
    },
    {
      "cell_type": "code",
      "execution_count": null,
      "id": "513ae04b",
      "metadata": {
        "id": "513ae04b"
      },
      "outputs": [],
      "source": [
        "df['num_characters'] = df['text'].apply(len)"
      ]
    },
    {
      "cell_type": "code",
      "execution_count": null,
      "id": "0fd8822c",
      "metadata": {
        "id": "0fd8822c",
        "outputId": "33817d2f-befd-4ab1-8651-708ff3e75d52"
      },
      "outputs": [
        {
          "data": {
            "text/html": [
              "<div>\n",
              "<style scoped>\n",
              "    .dataframe tbody tr th:only-of-type {\n",
              "        vertical-align: middle;\n",
              "    }\n",
              "\n",
              "    .dataframe tbody tr th {\n",
              "        vertical-align: top;\n",
              "    }\n",
              "\n",
              "    .dataframe thead th {\n",
              "        text-align: right;\n",
              "    }\n",
              "</style>\n",
              "<table border=\"1\" class=\"dataframe\">\n",
              "  <thead>\n",
              "    <tr style=\"text-align: right;\">\n",
              "      <th></th>\n",
              "      <th>target</th>\n",
              "      <th>text</th>\n",
              "      <th>num_characters</th>\n",
              "    </tr>\n",
              "  </thead>\n",
              "  <tbody>\n",
              "    <tr>\n",
              "      <th>0</th>\n",
              "      <td>0</td>\n",
              "      <td>Go until jurong point, crazy.. Available only ...</td>\n",
              "      <td>111</td>\n",
              "    </tr>\n",
              "    <tr>\n",
              "      <th>1</th>\n",
              "      <td>0</td>\n",
              "      <td>Ok lar... Joking wif u oni...</td>\n",
              "      <td>29</td>\n",
              "    </tr>\n",
              "    <tr>\n",
              "      <th>2</th>\n",
              "      <td>1</td>\n",
              "      <td>Free entry in 2 a wkly comp to win FA Cup fina...</td>\n",
              "      <td>155</td>\n",
              "    </tr>\n",
              "    <tr>\n",
              "      <th>3</th>\n",
              "      <td>0</td>\n",
              "      <td>U dun say so early hor... U c already then say...</td>\n",
              "      <td>49</td>\n",
              "    </tr>\n",
              "    <tr>\n",
              "      <th>4</th>\n",
              "      <td>0</td>\n",
              "      <td>Nah I don't think he goes to usf, he lives aro...</td>\n",
              "      <td>61</td>\n",
              "    </tr>\n",
              "  </tbody>\n",
              "</table>\n",
              "</div>"
            ],
            "text/plain": [
              "   target                                               text  num_characters\n",
              "0       0  Go until jurong point, crazy.. Available only ...             111\n",
              "1       0                      Ok lar... Joking wif u oni...              29\n",
              "2       1  Free entry in 2 a wkly comp to win FA Cup fina...             155\n",
              "3       0  U dun say so early hor... U c already then say...              49\n",
              "4       0  Nah I don't think he goes to usf, he lives aro...              61"
            ]
          },
          "execution_count": 23,
          "metadata": {},
          "output_type": "execute_result"
        }
      ],
      "source": [
        "df.head()"
      ]
    },
    {
      "cell_type": "code",
      "execution_count": null,
      "id": "b095c9f7",
      "metadata": {
        "id": "b095c9f7"
      },
      "outputs": [],
      "source": [
        "df['num_words']=df['text'].apply(lambda x:len(nltk.word_tokenize(x)))"
      ]
    },
    {
      "cell_type": "code",
      "execution_count": null,
      "id": "0bc9ea7e",
      "metadata": {
        "id": "0bc9ea7e",
        "outputId": "44357704-0e1a-45f4-d3be-b8c1f58b8f56"
      },
      "outputs": [
        {
          "data": {
            "text/html": [
              "<div>\n",
              "<style scoped>\n",
              "    .dataframe tbody tr th:only-of-type {\n",
              "        vertical-align: middle;\n",
              "    }\n",
              "\n",
              "    .dataframe tbody tr th {\n",
              "        vertical-align: top;\n",
              "    }\n",
              "\n",
              "    .dataframe thead th {\n",
              "        text-align: right;\n",
              "    }\n",
              "</style>\n",
              "<table border=\"1\" class=\"dataframe\">\n",
              "  <thead>\n",
              "    <tr style=\"text-align: right;\">\n",
              "      <th></th>\n",
              "      <th>target</th>\n",
              "      <th>text</th>\n",
              "      <th>num_characters</th>\n",
              "      <th>num_words</th>\n",
              "    </tr>\n",
              "  </thead>\n",
              "  <tbody>\n",
              "    <tr>\n",
              "      <th>0</th>\n",
              "      <td>0</td>\n",
              "      <td>Go until jurong point, crazy.. Available only ...</td>\n",
              "      <td>111</td>\n",
              "      <td>24</td>\n",
              "    </tr>\n",
              "    <tr>\n",
              "      <th>1</th>\n",
              "      <td>0</td>\n",
              "      <td>Ok lar... Joking wif u oni...</td>\n",
              "      <td>29</td>\n",
              "      <td>8</td>\n",
              "    </tr>\n",
              "    <tr>\n",
              "      <th>2</th>\n",
              "      <td>1</td>\n",
              "      <td>Free entry in 2 a wkly comp to win FA Cup fina...</td>\n",
              "      <td>155</td>\n",
              "      <td>37</td>\n",
              "    </tr>\n",
              "    <tr>\n",
              "      <th>3</th>\n",
              "      <td>0</td>\n",
              "      <td>U dun say so early hor... U c already then say...</td>\n",
              "      <td>49</td>\n",
              "      <td>13</td>\n",
              "    </tr>\n",
              "    <tr>\n",
              "      <th>4</th>\n",
              "      <td>0</td>\n",
              "      <td>Nah I don't think he goes to usf, he lives aro...</td>\n",
              "      <td>61</td>\n",
              "      <td>15</td>\n",
              "    </tr>\n",
              "  </tbody>\n",
              "</table>\n",
              "</div>"
            ],
            "text/plain": [
              "   target                                               text  num_characters  \\\n",
              "0       0  Go until jurong point, crazy.. Available only ...             111   \n",
              "1       0                      Ok lar... Joking wif u oni...              29   \n",
              "2       1  Free entry in 2 a wkly comp to win FA Cup fina...             155   \n",
              "3       0  U dun say so early hor... U c already then say...              49   \n",
              "4       0  Nah I don't think he goes to usf, he lives aro...              61   \n",
              "\n",
              "   num_words  \n",
              "0         24  \n",
              "1          8  \n",
              "2         37  \n",
              "3         13  \n",
              "4         15  "
            ]
          },
          "execution_count": 25,
          "metadata": {},
          "output_type": "execute_result"
        }
      ],
      "source": [
        "df.head()"
      ]
    },
    {
      "cell_type": "code",
      "execution_count": null,
      "id": "23986306",
      "metadata": {
        "id": "23986306"
      },
      "outputs": [],
      "source": [
        "df['num_sentence']=df['text'].apply(lambda x:len(nltk.sent_tokenize(x)))"
      ]
    },
    {
      "cell_type": "code",
      "execution_count": null,
      "id": "ec78565d",
      "metadata": {
        "id": "ec78565d",
        "outputId": "0aae29c4-9848-4c16-f400-1dd008fa6ef3"
      },
      "outputs": [
        {
          "data": {
            "text/html": [
              "<div>\n",
              "<style scoped>\n",
              "    .dataframe tbody tr th:only-of-type {\n",
              "        vertical-align: middle;\n",
              "    }\n",
              "\n",
              "    .dataframe tbody tr th {\n",
              "        vertical-align: top;\n",
              "    }\n",
              "\n",
              "    .dataframe thead th {\n",
              "        text-align: right;\n",
              "    }\n",
              "</style>\n",
              "<table border=\"1\" class=\"dataframe\">\n",
              "  <thead>\n",
              "    <tr style=\"text-align: right;\">\n",
              "      <th></th>\n",
              "      <th>num_characters</th>\n",
              "      <th>num_words</th>\n",
              "      <th>num_sentence</th>\n",
              "    </tr>\n",
              "  </thead>\n",
              "  <tbody>\n",
              "    <tr>\n",
              "      <th>count</th>\n",
              "      <td>5169.000000</td>\n",
              "      <td>5169.000000</td>\n",
              "      <td>5169.000000</td>\n",
              "    </tr>\n",
              "    <tr>\n",
              "      <th>mean</th>\n",
              "      <td>78.923776</td>\n",
              "      <td>18.456375</td>\n",
              "      <td>1.962275</td>\n",
              "    </tr>\n",
              "    <tr>\n",
              "      <th>std</th>\n",
              "      <td>58.174846</td>\n",
              "      <td>13.323322</td>\n",
              "      <td>1.433892</td>\n",
              "    </tr>\n",
              "    <tr>\n",
              "      <th>min</th>\n",
              "      <td>2.000000</td>\n",
              "      <td>1.000000</td>\n",
              "      <td>1.000000</td>\n",
              "    </tr>\n",
              "    <tr>\n",
              "      <th>25%</th>\n",
              "      <td>36.000000</td>\n",
              "      <td>9.000000</td>\n",
              "      <td>1.000000</td>\n",
              "    </tr>\n",
              "    <tr>\n",
              "      <th>50%</th>\n",
              "      <td>60.000000</td>\n",
              "      <td>15.000000</td>\n",
              "      <td>1.000000</td>\n",
              "    </tr>\n",
              "    <tr>\n",
              "      <th>75%</th>\n",
              "      <td>117.000000</td>\n",
              "      <td>26.000000</td>\n",
              "      <td>2.000000</td>\n",
              "    </tr>\n",
              "    <tr>\n",
              "      <th>max</th>\n",
              "      <td>910.000000</td>\n",
              "      <td>220.000000</td>\n",
              "      <td>38.000000</td>\n",
              "    </tr>\n",
              "  </tbody>\n",
              "</table>\n",
              "</div>"
            ],
            "text/plain": [
              "       num_characters    num_words  num_sentence\n",
              "count     5169.000000  5169.000000   5169.000000\n",
              "mean        78.923776    18.456375      1.962275\n",
              "std         58.174846    13.323322      1.433892\n",
              "min          2.000000     1.000000      1.000000\n",
              "25%         36.000000     9.000000      1.000000\n",
              "50%         60.000000    15.000000      1.000000\n",
              "75%        117.000000    26.000000      2.000000\n",
              "max        910.000000   220.000000     38.000000"
            ]
          },
          "execution_count": 27,
          "metadata": {},
          "output_type": "execute_result"
        }
      ],
      "source": [
        "df[['num_characters','num_words','num_sentence']].describe()"
      ]
    },
    {
      "cell_type": "code",
      "execution_count": null,
      "id": "6c667e1a",
      "metadata": {
        "id": "6c667e1a",
        "outputId": "829064da-e287-4c74-c9c7-f8c5396979ef"
      },
      "outputs": [
        {
          "data": {
            "text/html": [
              "<div>\n",
              "<style scoped>\n",
              "    .dataframe tbody tr th:only-of-type {\n",
              "        vertical-align: middle;\n",
              "    }\n",
              "\n",
              "    .dataframe tbody tr th {\n",
              "        vertical-align: top;\n",
              "    }\n",
              "\n",
              "    .dataframe thead th {\n",
              "        text-align: right;\n",
              "    }\n",
              "</style>\n",
              "<table border=\"1\" class=\"dataframe\">\n",
              "  <thead>\n",
              "    <tr style=\"text-align: right;\">\n",
              "      <th></th>\n",
              "      <th>num_characters</th>\n",
              "      <th>num_words</th>\n",
              "      <th>num_sentence</th>\n",
              "    </tr>\n",
              "  </thead>\n",
              "  <tbody>\n",
              "    <tr>\n",
              "      <th>count</th>\n",
              "      <td>4516.000000</td>\n",
              "      <td>4516.000000</td>\n",
              "      <td>4516.000000</td>\n",
              "    </tr>\n",
              "    <tr>\n",
              "      <th>mean</th>\n",
              "      <td>70.456820</td>\n",
              "      <td>17.123339</td>\n",
              "      <td>1.815545</td>\n",
              "    </tr>\n",
              "    <tr>\n",
              "      <th>std</th>\n",
              "      <td>56.356802</td>\n",
              "      <td>13.491315</td>\n",
              "      <td>1.364098</td>\n",
              "    </tr>\n",
              "    <tr>\n",
              "      <th>min</th>\n",
              "      <td>2.000000</td>\n",
              "      <td>1.000000</td>\n",
              "      <td>1.000000</td>\n",
              "    </tr>\n",
              "    <tr>\n",
              "      <th>25%</th>\n",
              "      <td>34.000000</td>\n",
              "      <td>8.000000</td>\n",
              "      <td>1.000000</td>\n",
              "    </tr>\n",
              "    <tr>\n",
              "      <th>50%</th>\n",
              "      <td>52.000000</td>\n",
              "      <td>13.000000</td>\n",
              "      <td>1.000000</td>\n",
              "    </tr>\n",
              "    <tr>\n",
              "      <th>75%</th>\n",
              "      <td>90.000000</td>\n",
              "      <td>22.000000</td>\n",
              "      <td>2.000000</td>\n",
              "    </tr>\n",
              "    <tr>\n",
              "      <th>max</th>\n",
              "      <td>910.000000</td>\n",
              "      <td>220.000000</td>\n",
              "      <td>38.000000</td>\n",
              "    </tr>\n",
              "  </tbody>\n",
              "</table>\n",
              "</div>"
            ],
            "text/plain": [
              "       num_characters    num_words  num_sentence\n",
              "count     4516.000000  4516.000000   4516.000000\n",
              "mean        70.456820    17.123339      1.815545\n",
              "std         56.356802    13.491315      1.364098\n",
              "min          2.000000     1.000000      1.000000\n",
              "25%         34.000000     8.000000      1.000000\n",
              "50%         52.000000    13.000000      1.000000\n",
              "75%         90.000000    22.000000      2.000000\n",
              "max        910.000000   220.000000     38.000000"
            ]
          },
          "execution_count": 28,
          "metadata": {},
          "output_type": "execute_result"
        }
      ],
      "source": [
        "#not spam\n",
        "df[df['target']==0][['num_characters','num_words','num_sentence']].describe()"
      ]
    },
    {
      "cell_type": "code",
      "execution_count": null,
      "id": "69cc4d8a",
      "metadata": {
        "id": "69cc4d8a",
        "outputId": "2fb3db17-6111-4265-f0f9-22900c16ec99"
      },
      "outputs": [
        {
          "data": {
            "text/html": [
              "<div>\n",
              "<style scoped>\n",
              "    .dataframe tbody tr th:only-of-type {\n",
              "        vertical-align: middle;\n",
              "    }\n",
              "\n",
              "    .dataframe tbody tr th {\n",
              "        vertical-align: top;\n",
              "    }\n",
              "\n",
              "    .dataframe thead th {\n",
              "        text-align: right;\n",
              "    }\n",
              "</style>\n",
              "<table border=\"1\" class=\"dataframe\">\n",
              "  <thead>\n",
              "    <tr style=\"text-align: right;\">\n",
              "      <th></th>\n",
              "      <th>num_characters</th>\n",
              "      <th>num_words</th>\n",
              "      <th>num_sentence</th>\n",
              "    </tr>\n",
              "  </thead>\n",
              "  <tbody>\n",
              "    <tr>\n",
              "      <th>count</th>\n",
              "      <td>653.000000</td>\n",
              "      <td>653.000000</td>\n",
              "      <td>653.000000</td>\n",
              "    </tr>\n",
              "    <tr>\n",
              "      <th>mean</th>\n",
              "      <td>137.479326</td>\n",
              "      <td>27.675345</td>\n",
              "      <td>2.977029</td>\n",
              "    </tr>\n",
              "    <tr>\n",
              "      <th>std</th>\n",
              "      <td>30.014336</td>\n",
              "      <td>7.011513</td>\n",
              "      <td>1.493676</td>\n",
              "    </tr>\n",
              "    <tr>\n",
              "      <th>min</th>\n",
              "      <td>13.000000</td>\n",
              "      <td>2.000000</td>\n",
              "      <td>1.000000</td>\n",
              "    </tr>\n",
              "    <tr>\n",
              "      <th>25%</th>\n",
              "      <td>131.000000</td>\n",
              "      <td>25.000000</td>\n",
              "      <td>2.000000</td>\n",
              "    </tr>\n",
              "    <tr>\n",
              "      <th>50%</th>\n",
              "      <td>148.000000</td>\n",
              "      <td>29.000000</td>\n",
              "      <td>3.000000</td>\n",
              "    </tr>\n",
              "    <tr>\n",
              "      <th>75%</th>\n",
              "      <td>157.000000</td>\n",
              "      <td>32.000000</td>\n",
              "      <td>4.000000</td>\n",
              "    </tr>\n",
              "    <tr>\n",
              "      <th>max</th>\n",
              "      <td>223.000000</td>\n",
              "      <td>46.000000</td>\n",
              "      <td>9.000000</td>\n",
              "    </tr>\n",
              "  </tbody>\n",
              "</table>\n",
              "</div>"
            ],
            "text/plain": [
              "       num_characters   num_words  num_sentence\n",
              "count      653.000000  653.000000    653.000000\n",
              "mean       137.479326   27.675345      2.977029\n",
              "std         30.014336    7.011513      1.493676\n",
              "min         13.000000    2.000000      1.000000\n",
              "25%        131.000000   25.000000      2.000000\n",
              "50%        148.000000   29.000000      3.000000\n",
              "75%        157.000000   32.000000      4.000000\n",
              "max        223.000000   46.000000      9.000000"
            ]
          },
          "execution_count": 29,
          "metadata": {},
          "output_type": "execute_result"
        }
      ],
      "source": [
        "#spam\n",
        "df[df['target']==1][['num_characters','num_words','num_sentence']].describe()"
      ]
    },
    {
      "cell_type": "code",
      "execution_count": null,
      "id": "f64f8437",
      "metadata": {
        "id": "f64f8437"
      },
      "outputs": [],
      "source": [
        "import seaborn as sns"
      ]
    },
    {
      "cell_type": "code",
      "execution_count": null,
      "id": "ff226299",
      "metadata": {
        "id": "ff226299",
        "outputId": "98602bae-782e-4d0d-e27a-a476a6cc3e50"
      },
      "outputs": [
        {
          "data": {
            "text/plain": [
              "<AxesSubplot:xlabel='num_characters', ylabel='Count'>"
            ]
          },
          "execution_count": 31,
          "metadata": {},
          "output_type": "execute_result"
        },
        {
          "data": {
            "image/png": "[encoded data removed]",
            "text/plain": [
              "<Figure size 864x576 with 1 Axes>"
            ]
          },
          "metadata": {
            "needs_background": "light"
          },
          "output_type": "display_data"
        }
      ],
      "source": [
        "plt.figure(figsize=(12,8))\n",
        "sns.histplot(df[df['target']==0]['num_characters'])\n",
        "sns.histplot(df[df['target']==1]['num_characters'],color='red')"
      ]
    },
    {
      "cell_type": "code",
      "execution_count": null,
      "id": "c6813bb6",
      "metadata": {
        "id": "c6813bb6",
        "outputId": "4ba953bd-e095-4b5e-ba29-d13efcf36bb2"
      },
      "outputs": [
        {
          "data": {
            "text/plain": [
              "<AxesSubplot:xlabel='num_words', ylabel='Count'>"
            ]
          },
          "execution_count": 32,
          "metadata": {},
          "output_type": "execute_result"
        },
        {
          "data": {
            "image/png": "[encoded data removed]",
            "text/plain": [
              "<Figure size 864x576 with 1 Axes>"
            ]
          },
          "metadata": {
            "needs_background": "light"
          },
          "output_type": "display_data"
        }
      ],
      "source": [
        "plt.figure(figsize=(12,8))\n",
        "sns.histplot(df[df['target']==0]['num_words'])\n",
        "sns.histplot(df[df['target']==1]['num_words'],color='red')"
      ]
    },
    {
      "cell_type": "code",
      "execution_count": null,
      "id": "38a55630",
      "metadata": {
        "id": "38a55630",
        "outputId": "77804bdc-8395-4e7b-b52c-099886d4abd0"
      },
      "outputs": [
        {
          "data": {
            "text/plain": [
              "<AxesSubplot:>"
            ]
          },
          "execution_count": 33,
          "metadata": {},
          "output_type": "execute_result"
        },
        {
          "data": {
            "image/png": "[encoded data removed]",
            "text/plain": [
              "<Figure size 432x288 with 2 Axes>"
            ]
          },
          "metadata": {
            "needs_background": "light"
          },
          "output_type": "display_data"
        }
      ],
      "source": [
        "sns.heatmap(df.corr(),annot=True)"
      ]
    },
    {
      "cell_type": "code",
      "execution_count": null,
      "id": "484ae78f",
      "metadata": {
        "id": "484ae78f",
        "outputId": "f0dab3f0-0a29-4dd6-c868-4d31294bc0d1"
      },
      "outputs": [
        {
          "data": {
            "text/html": [
              "<div>\n",
              "<style scoped>\n",
              "    .dataframe tbody tr th:only-of-type {\n",
              "        vertical-align: middle;\n",
              "    }\n",
              "\n",
              "    .dataframe tbody tr th {\n",
              "        vertical-align: top;\n",
              "    }\n",
              "\n",
              "    .dataframe thead th {\n",
              "        text-align: right;\n",
              "    }\n",
              "</style>\n",
              "<table border=\"1\" class=\"dataframe\">\n",
              "  <thead>\n",
              "    <tr style=\"text-align: right;\">\n",
              "      <th></th>\n",
              "      <th>target</th>\n",
              "      <th>num_characters</th>\n",
              "      <th>num_words</th>\n",
              "      <th>num_sentence</th>\n",
              "    </tr>\n",
              "  </thead>\n",
              "  <tbody>\n",
              "    <tr>\n",
              "      <th>target</th>\n",
              "      <td>1.000000</td>\n",
              "      <td>0.382785</td>\n",
              "      <td>0.263143</td>\n",
              "      <td>0.269132</td>\n",
              "    </tr>\n",
              "    <tr>\n",
              "      <th>num_characters</th>\n",
              "      <td>0.382785</td>\n",
              "      <td>1.000000</td>\n",
              "      <td>0.966087</td>\n",
              "      <td>0.626197</td>\n",
              "    </tr>\n",
              "    <tr>\n",
              "      <th>num_words</th>\n",
              "      <td>0.263143</td>\n",
              "      <td>0.966087</td>\n",
              "      <td>1.000000</td>\n",
              "      <td>0.680924</td>\n",
              "    </tr>\n",
              "    <tr>\n",
              "      <th>num_sentence</th>\n",
              "      <td>0.269132</td>\n",
              "      <td>0.626197</td>\n",
              "      <td>0.680924</td>\n",
              "      <td>1.000000</td>\n",
              "    </tr>\n",
              "  </tbody>\n",
              "</table>\n",
              "</div>"
            ],
            "text/plain": [
              "                  target  num_characters  num_words  num_sentence\n",
              "target          1.000000        0.382785   0.263143      0.269132\n",
              "num_characters  0.382785        1.000000   0.966087      0.626197\n",
              "num_words       0.263143        0.966087   1.000000      0.680924\n",
              "num_sentence    0.269132        0.626197   0.680924      1.000000"
            ]
          },
          "execution_count": 34,
          "metadata": {},
          "output_type": "execute_result"
        }
      ],
      "source": [
        "df.corr()"
      ]
    },
    {
      "cell_type": "markdown",
      "id": "e5f03df7",
      "metadata": {
        "id": "e5f03df7"
      },
      "source": [
        "## 3.Data preprocessing"
      ]
    },
    {
      "cell_type": "code",
      "execution_count": null,
      "id": "8f61428f",
      "metadata": {
        "id": "8f61428f"
      },
      "outputs": [],
      "source": [
        "import nltk\n",
        "from nltk.corpus import stopwords\n",
        "import string\n",
        "\n",
        "def transform_txt(text):\n",
        "    text = text.lower()\n",
        "    text = nltk.word_tokenize(text)\n",
        "\n",
        "    t = []\n",
        "    for i in text:\n",
        "        if i.isalnum():\n",
        "            t.append(i)\n",
        "\n",
        "    text = t[:]\n",
        "    t.clear()\n",
        "\n",
        "    stop_words = set(stopwords.words('english'))\n",
        "    for i in text:\n",
        "        if i not in stop_words and i not in string.punctuation:\n",
        "            t.append(i)\n",
        "    text = t[:]\n",
        "    t.clear()\n",
        "    for i in text:\n",
        "        t.append(ps.stem(i))\n",
        "\n",
        "\n",
        "    return \" \".join(t)\n"
      ]
    },
    {
      "cell_type": "code",
      "execution_count": null,
      "id": "69366a1e",
      "metadata": {
        "scrolled": true,
        "id": "69366a1e",
        "outputId": "add6293f-8dbc-4e7a-95d1-e8ffe2b0daa0"
      },
      "outputs": [
        {
          "name": "stderr",
          "output_type": "stream",
          "text": [
            "[nltk_data] Downloading package stopwords to\n",
            "[nltk_data]     C:\\Users\\HP\\AppData\\Roaming\\nltk_data...\n",
            "[nltk_data]   Package stopwords is already up-to-date!\n"
          ]
        },
        {
          "data": {
            "text/plain": [
              "True"
            ]
          },
          "execution_count": 36,
          "metadata": {},
          "output_type": "execute_result"
        }
      ],
      "source": [
        "import nltk\n",
        "nltk.download('stopwords')\n"
      ]
    },
    {
      "cell_type": "code",
      "execution_count": null,
      "id": "b405b6b8",
      "metadata": {
        "id": "b405b6b8",
        "outputId": "67405ad2-0d07-456d-b066-bcea67856f2a"
      },
      "outputs": [
        {
          "data": {
            "text/plain": [
              "'care'"
            ]
          },
          "execution_count": 37,
          "metadata": {},
          "output_type": "execute_result"
        }
      ],
      "source": [
        "from nltk.stem.porter import PorterStemmer\n",
        "ps = PorterStemmer()\n",
        "ps.stem('caring')"
      ]
    },
    {
      "cell_type": "code",
      "execution_count": null,
      "id": "caee0c69",
      "metadata": {
        "id": "caee0c69",
        "outputId": "8859c387-f439-4d9e-9ff2-ce764ce0a9fb"
      },
      "outputs": [
        {
          "data": {
            "text/plain": [
              "'live life'"
            ]
          },
          "execution_count": 38,
          "metadata": {},
          "output_type": "execute_result"
        }
      ],
      "source": [
        "transform_txt('I living my life')"
      ]
    },
    {
      "cell_type": "code",
      "execution_count": null,
      "id": "c024866d",
      "metadata": {
        "id": "c024866d",
        "outputId": "9f519465-ffb8-4020-a95c-aac467931404"
      },
      "outputs": [
        {
          "data": {
            "text/plain": [
              "'Go until jurong point, crazy.. Available only in bugis n great world la e buffet... Cine there got amore wat...'"
            ]
          },
          "execution_count": 39,
          "metadata": {},
          "output_type": "execute_result"
        }
      ],
      "source": [
        "df['text'][0]"
      ]
    },
    {
      "cell_type": "code",
      "execution_count": null,
      "id": "ceaa9c00",
      "metadata": {
        "id": "ceaa9c00"
      },
      "outputs": [],
      "source": [
        "df['transformed_text']=df['text'].apply(transform_txt)"
      ]
    },
    {
      "cell_type": "code",
      "execution_count": null,
      "id": "d1277382",
      "metadata": {
        "id": "d1277382",
        "outputId": "3b77e65f-d8cd-4714-e4cc-7606d5bf5ff2"
      },
      "outputs": [
        {
          "data": {
            "text/html": [
              "<div>\n",
              "<style scoped>\n",
              "    .dataframe tbody tr th:only-of-type {\n",
              "        vertical-align: middle;\n",
              "    }\n",
              "\n",
              "    .dataframe tbody tr th {\n",
              "        vertical-align: top;\n",
              "    }\n",
              "\n",
              "    .dataframe thead th {\n",
              "        text-align: right;\n",
              "    }\n",
              "</style>\n",
              "<table border=\"1\" class=\"dataframe\">\n",
              "  <thead>\n",
              "    <tr style=\"text-align: right;\">\n",
              "      <th></th>\n",
              "      <th>target</th>\n",
              "      <th>text</th>\n",
              "      <th>num_characters</th>\n",
              "      <th>num_words</th>\n",
              "      <th>num_sentence</th>\n",
              "      <th>transformed_text</th>\n",
              "    </tr>\n",
              "  </thead>\n",
              "  <tbody>\n",
              "    <tr>\n",
              "      <th>0</th>\n",
              "      <td>0</td>\n",
              "      <td>Go until jurong point, crazy.. Available only ...</td>\n",
              "      <td>111</td>\n",
              "      <td>24</td>\n",
              "      <td>2</td>\n",
              "      <td>go jurong point crazi avail bugi n great world...</td>\n",
              "    </tr>\n",
              "    <tr>\n",
              "      <th>1</th>\n",
              "      <td>0</td>\n",
              "      <td>Ok lar... Joking wif u oni...</td>\n",
              "      <td>29</td>\n",
              "      <td>8</td>\n",
              "      <td>2</td>\n",
              "      <td>ok lar joke wif u oni</td>\n",
              "    </tr>\n",
              "    <tr>\n",
              "      <th>2</th>\n",
              "      <td>1</td>\n",
              "      <td>Free entry in 2 a wkly comp to win FA Cup fina...</td>\n",
              "      <td>155</td>\n",
              "      <td>37</td>\n",
              "      <td>2</td>\n",
              "      <td>free entri 2 wkli comp win fa cup final tkt 21...</td>\n",
              "    </tr>\n",
              "    <tr>\n",
              "      <th>3</th>\n",
              "      <td>0</td>\n",
              "      <td>U dun say so early hor... U c already then say...</td>\n",
              "      <td>49</td>\n",
              "      <td>13</td>\n",
              "      <td>1</td>\n",
              "      <td>u dun say earli hor u c alreadi say</td>\n",
              "    </tr>\n",
              "    <tr>\n",
              "      <th>4</th>\n",
              "      <td>0</td>\n",
              "      <td>Nah I don't think he goes to usf, he lives aro...</td>\n",
              "      <td>61</td>\n",
              "      <td>15</td>\n",
              "      <td>1</td>\n",
              "      <td>nah think goe usf live around though</td>\n",
              "    </tr>\n",
              "  </tbody>\n",
              "</table>\n",
              "</div>"
            ],
            "text/plain": [
              "   target                                               text  num_characters  \\\n",
              "0       0  Go until jurong point, crazy.. Available only ...             111   \n",
              "1       0                      Ok lar... Joking wif u oni...              29   \n",
              "2       1  Free entry in 2 a wkly comp to win FA Cup fina...             155   \n",
              "3       0  U dun say so early hor... U c already then say...              49   \n",
              "4       0  Nah I don't think he goes to usf, he lives aro...              61   \n",
              "\n",
              "   num_words  num_sentence                                   transformed_text  \n",
              "0         24             2  go jurong point crazi avail bugi n great world...  \n",
              "1          8             2                              ok lar joke wif u oni  \n",
              "2         37             2  free entri 2 wkli comp win fa cup final tkt 21...  \n",
              "3         13             1                u dun say earli hor u c alreadi say  \n",
              "4         15             1               nah think goe usf live around though  "
            ]
          },
          "execution_count": 41,
          "metadata": {},
          "output_type": "execute_result"
        }
      ],
      "source": [
        "df.head()"
      ]
    },
    {
      "cell_type": "code",
      "execution_count": null,
      "id": "0bec7d42",
      "metadata": {
        "id": "0bec7d42",
        "outputId": "ea4951a1-ffc8-4248-94f3-c37faeacb56b"
      },
      "outputs": [
        {
          "name": "stdout",
          "output_type": "stream",
          "text": [
            "Requirement already satisfied: WordCloud in e:\\anaconda\\lib\\site-packages (1.9.3)\n",
            "Requirement already satisfied: numpy>=1.6.1 in e:\\anaconda\\lib\\site-packages (from WordCloud) (1.20.1)\n",
            "Requirement already satisfied: pillow in e:\\anaconda\\lib\\site-packages (from WordCloud) (10.2.0)\n",
            "Requirement already satisfied: matplotlib in e:\\anaconda\\lib\\site-packages (from WordCloud) (3.3.4)\n",
            "Requirement already satisfied: pyparsing!=2.0.4,!=2.1.2,!=2.1.6,>=2.0.3 in e:\\anaconda\\lib\\site-packages (from matplotlib->WordCloud) (2.4.7)\n",
            "Requirement already satisfied: cycler>=0.10 in e:\\anaconda\\lib\\site-packages (from matplotlib->WordCloud) (0.10.0)\n",
            "Requirement already satisfied: python-dateutil>=2.1 in e:\\anaconda\\lib\\site-packages (from matplotlib->WordCloud) (2.8.1)\n",
            "Requirement already satisfied: kiwisolver>=1.0.1 in e:\\anaconda\\lib\\site-packages (from matplotlib->WordCloud) (1.3.1)\n",
            "Requirement already satisfied: six in e:\\anaconda\\lib\\site-packages (from cycler>=0.10->matplotlib->WordCloud) (1.15.0)\n",
            "Note: you may need to restart the kernel to use updated packages.\n"
          ]
        }
      ],
      "source": [
        "pip install WordCloud"
      ]
    },
    {
      "cell_type": "code",
      "execution_count": null,
      "id": "18305b11",
      "metadata": {
        "id": "18305b11"
      },
      "outputs": [],
      "source": [
        "from wordcloud import WordCloud\n",
        "wc = WordCloud(width=500,height=500,min_font_size=10,background_color='white')"
      ]
    },
    {
      "cell_type": "code",
      "execution_count": null,
      "id": "3962895e",
      "metadata": {
        "id": "3962895e",
        "outputId": "eda8338d-1bb0-4beb-95a4-4ded2b40facc"
      },
      "outputs": [
        {
          "name": "stdout",
          "output_type": "stream",
          "text": [
            "Requirement already satisfied: wordcloud in e:\\anaconda\\lib\\site-packages (1.9.3)Note: you may need to restart the kernel to use updated packages.\n",
            "Requirement already satisfied: Pillow in e:\\anaconda\\lib\\site-packages (10.2.0)\n",
            "Requirement already satisfied: matplotlib in e:\\anaconda\\lib\\site-packages (from wordcloud) (3.3.4)\n",
            "Requirement already satisfied: numpy>=1.6.1 in e:\\anaconda\\lib\\site-packages (from wordcloud) (1.20.1)\n",
            "Requirement already satisfied: kiwisolver>=1.0.1 in e:\\anaconda\\lib\\site-packages (from matplotlib->wordcloud) (1.3.1)\n",
            "Requirement already satisfied: python-dateutil>=2.1 in e:\\anaconda\\lib\\site-packages (from matplotlib->wordcloud) (2.8.1)\n",
            "Requirement already satisfied: pyparsing!=2.0.4,!=2.1.2,!=2.1.6,>=2.0.3 in e:\\anaconda\\lib\\site-packages (from matplotlib->wordcloud) (2.4.7)\n",
            "Requirement already satisfied: cycler>=0.10 in e:\\anaconda\\lib\\site-packages (from matplotlib->wordcloud) (0.10.0)\n",
            "Requirement already satisfied: six in e:\\anaconda\\lib\\site-packages (from cycler>=0.10->matplotlib->wordcloud) (1.15.0)\n",
            "\n"
          ]
        }
      ],
      "source": [
        "pip install --upgrade wordcloud Pillow\n"
      ]
    },
    {
      "cell_type": "code",
      "execution_count": null,
      "id": "f4b75703",
      "metadata": {
        "scrolled": true,
        "id": "f4b75703"
      },
      "outputs": [],
      "source": [
        "spam_wc = wc.generate(df[df['target'] == 1]['transformed_text'].str.cat(sep=\" \"))"
      ]
    },
    {
      "cell_type": "code",
      "execution_count": null,
      "id": "be30b2f2",
      "metadata": {
        "id": "be30b2f2"
      },
      "outputs": [],
      "source": [
        "ham_wc = wc.generate(df[df['target'] == 0]['transformed_text'].str.cat(sep=\" \"))"
      ]
    },
    {
      "cell_type": "code",
      "execution_count": null,
      "id": "c301d994",
      "metadata": {
        "scrolled": true,
        "id": "c301d994",
        "outputId": "89875e0d-ace5-482f-a46d-b7b4d85fd46b"
      },
      "outputs": [
        {
          "data": {
            "text/plain": [
              "<matplotlib.image.AxesImage at 0x2a4a2ed2730>"
            ]
          },
          "execution_count": 47,
          "metadata": {},
          "output_type": "execute_result"
        },
        {
          "data": {
            "image/png": "[encoded data removed]",
            "text/plain": [
              "<Figure size 432x288 with 1 Axes>"
            ]
          },
          "metadata": {
            "needs_background": "light"
          },
          "output_type": "display_data"
        }
      ],
      "source": [
        "plt.imshow(spam_wc)"
      ]
    },
    {
      "cell_type": "code",
      "execution_count": null,
      "id": "41b786b4",
      "metadata": {
        "id": "41b786b4",
        "outputId": "a9800315-743c-4d47-a599-a7273feb05eb"
      },
      "outputs": [
        {
          "data": {
            "text/plain": [
              "<matplotlib.image.AxesImage at 0x2a4a2ca6d90>"
            ]
          },
          "execution_count": 48,
          "metadata": {},
          "output_type": "execute_result"
        },
        {
          "data": {
            "image/png": "[encoded data removed]",
            "text/plain": [
              "<Figure size 432x288 with 1 Axes>"
            ]
          },
          "metadata": {
            "needs_background": "light"
          },
          "output_type": "display_data"
        }
      ],
      "source": [
        "plt.imshow(ham_wc)"
      ]
    },
    {
      "cell_type": "code",
      "execution_count": null,
      "id": "4c3c1895",
      "metadata": {
        "id": "4c3c1895"
      },
      "outputs": [],
      "source": [
        "spam_corpus=[]\n",
        "for msg in df[df['target']==1]['transformed_text'].tolist():\n",
        "    for word in msg.split():\n",
        "        spam_corpus.append(word)"
      ]
    },
    {
      "cell_type": "code",
      "execution_count": null,
      "id": "c2638178",
      "metadata": {
        "id": "c2638178",
        "outputId": "8970632a-a1aa-438a-e510-436477b2a83d"
      },
      "outputs": [
        {
          "name": "stderr",
          "output_type": "stream",
          "text": [
            "E:\\Anaconda\\lib\\site-packages\\seaborn\\_decorators.py:36: FutureWarning: Pass the following variables as keyword args: x, y. From version 0.12, the only valid positional argument will be `data`, and passing other arguments without an explicit keyword will result in an error or misinterpretation.\n",
            "  warnings.warn(\n"
          ]
        },
        {
          "data": {
            "image/png": "[encoded data removed]",
            "text/plain": [
              "<Figure size 432x288 with 1 Axes>"
            ]
          },
          "metadata": {
            "needs_background": "light"
          },
          "output_type": "display_data"
        }
      ],
      "source": [
        "from collections import Counter\n",
        "sns.barplot(pd.DataFrame(Counter(spam_corpus).most_common(30))[0],pd.DataFrame(Counter(spam_corpus).most_common(30))[1])\n",
        "plt.xticks(rotation='vertical')\n",
        "plt.show()"
      ]
    },
    {
      "cell_type": "code",
      "execution_count": null,
      "id": "382d10b2",
      "metadata": {
        "id": "382d10b2"
      },
      "outputs": [],
      "source": [
        "ham_corpus=[]\n",
        "for msg in df[df['target']==0]['transformed_text'].tolist():\n",
        "    for word in msg.split():\n",
        "        ham_corpus.append(word)"
      ]
    },
    {
      "cell_type": "code",
      "execution_count": null,
      "id": "727bad6c",
      "metadata": {
        "id": "727bad6c",
        "outputId": "e5960ff8-042b-4d07-aea3-2db13bc4c75d"
      },
      "outputs": [
        {
          "data": {
            "text/plain": [
              "35303"
            ]
          },
          "execution_count": 52,
          "metadata": {},
          "output_type": "execute_result"
        }
      ],
      "source": [
        "len(ham_corpus)"
      ]
    },
    {
      "cell_type": "code",
      "execution_count": null,
      "id": "f13b74dc",
      "metadata": {
        "scrolled": false,
        "id": "f13b74dc",
        "outputId": "2961806b-93c5-41cc-dc37-2f2858a5e787"
      },
      "outputs": [
        {
          "name": "stderr",
          "output_type": "stream",
          "text": [
            "E:\\Anaconda\\lib\\site-packages\\seaborn\\_decorators.py:36: FutureWarning: Pass the following variables as keyword args: x, y. From version 0.12, the only valid positional argument will be `data`, and passing other arguments without an explicit keyword will result in an error or misinterpretation.\n",
            "  warnings.warn(\n"
          ]
        },
        {
          "data": {
            "image/png": "[encoded data removed]",
            "text/plain": [
              "<Figure size 432x288 with 1 Axes>"
            ]
          },
          "metadata": {
            "needs_background": "light"
          },
          "output_type": "display_data"
        }
      ],
      "source": [
        "from collections import Counter\n",
        "sns.barplot(pd.DataFrame(Counter(ham_corpus).most_common(30))[0],pd.DataFrame(Counter(ham_corpus).most_common(30))[1])\n",
        "plt.xticks(rotation='vertical')\n",
        "plt.show()"
      ]
    },
    {
      "cell_type": "markdown",
      "id": "9613163a",
      "metadata": {
        "id": "9613163a"
      },
      "source": [
        "## 4.Model Building"
      ]
    },
    {
      "cell_type": "code",
      "execution_count": null,
      "id": "e35c0487",
      "metadata": {
        "id": "e35c0487"
      },
      "outputs": [],
      "source": [
        "from sklearn.feature_extraction.text import CountVectorizer,TfidfVectorizer\n",
        "cv= CountVectorizer()\n",
        "tfid= TfidfVectorizer()"
      ]
    },
    {
      "cell_type": "code",
      "execution_count": null,
      "id": "3d58d935",
      "metadata": {
        "id": "3d58d935"
      },
      "outputs": [],
      "source": [
        "x = tfid.fit_transform(df['transformed_text']).toarray()"
      ]
    },
    {
      "cell_type": "code",
      "execution_count": null,
      "id": "73b9cb8e",
      "metadata": {
        "id": "73b9cb8e",
        "outputId": "99848491-6d72-4886-b1d7-13773809893f"
      },
      "outputs": [
        {
          "data": {
            "text/plain": [
              "(5169, 6677)"
            ]
          },
          "execution_count": 56,
          "metadata": {},
          "output_type": "execute_result"
        }
      ],
      "source": [
        "x.shape"
      ]
    },
    {
      "cell_type": "code",
      "execution_count": null,
      "id": "6b9d4d70",
      "metadata": {
        "id": "6b9d4d70"
      },
      "outputs": [],
      "source": [
        "y= df['target'].values"
      ]
    },
    {
      "cell_type": "code",
      "execution_count": null,
      "id": "0d691930",
      "metadata": {
        "id": "0d691930",
        "outputId": "54d0015d-f2a1-424f-d1e2-7f8fc2cf39fb"
      },
      "outputs": [
        {
          "data": {
            "text/plain": [
              "array([0, 0, 1, ..., 0, 0, 0])"
            ]
          },
          "execution_count": 58,
          "metadata": {},
          "output_type": "execute_result"
        }
      ],
      "source": [
        "y"
      ]
    },
    {
      "cell_type": "code",
      "execution_count": null,
      "id": "1bc10d7d",
      "metadata": {
        "id": "1bc10d7d"
      },
      "outputs": [],
      "source": [
        "from sklearn.model_selection import train_test_split"
      ]
    },
    {
      "cell_type": "code",
      "execution_count": null,
      "id": "fc0e3627",
      "metadata": {
        "id": "fc0e3627"
      },
      "outputs": [],
      "source": [
        "X_train, X_test, y_train, y_test = train_test_split(x, y, test_size=0.2, random_state=2)"
      ]
    },
    {
      "cell_type": "code",
      "execution_count": null,
      "id": "c019e154",
      "metadata": {
        "id": "c019e154"
      },
      "outputs": [],
      "source": [
        "from sklearn.naive_bayes import GaussianNB,MultinomialNB,BernoulliNB\n",
        "from sklearn.metrics import accuracy_score,confusion_matrix,precision_score"
      ]
    },
    {
      "cell_type": "code",
      "execution_count": null,
      "id": "6074f383",
      "metadata": {
        "id": "6074f383"
      },
      "outputs": [],
      "source": [
        "gnb= GaussianNB()\n",
        "mnb= MultinomialNB()\n",
        "bnb= BernoulliNB()"
      ]
    },
    {
      "cell_type": "code",
      "execution_count": null,
      "id": "4f946d29",
      "metadata": {
        "id": "4f946d29",
        "outputId": "075a608b-617b-45c1-b4ec-78add287d446"
      },
      "outputs": [
        {
          "name": "stdout",
          "output_type": "stream",
          "text": [
            "0.874274661508704\n",
            "[[791 105]\n",
            " [ 25 113]]\n",
            "0.518348623853211\n"
          ]
        }
      ],
      "source": [
        "gnb.fit(X_train,y_train)\n",
        "y_pred1 = gnb.predict(X_test)\n",
        "print (accuracy_score(y_test,y_pred1))\n",
        "print(confusion_matrix(y_test,y_pred1))\n",
        "print(precision_score(y_test,y_pred1))"
      ]
    },
    {
      "cell_type": "code",
      "execution_count": null,
      "id": "34909f2e",
      "metadata": {
        "id": "34909f2e",
        "outputId": "c245a2a2-1bdc-4ee3-f1c3-b3a6a84f6602"
      },
      "outputs": [
        {
          "name": "stdout",
          "output_type": "stream",
          "text": [
            "0.9593810444874274\n",
            "[[896   0]\n",
            " [ 42  96]]\n",
            "1.0\n"
          ]
        }
      ],
      "source": [
        "mnb.fit(X_train,y_train)\n",
        "y_pred2 = mnb.predict(X_test)\n",
        "print (accuracy_score(y_test,y_pred2))\n",
        "print(confusion_matrix(y_test,y_pred2))\n",
        "print(precision_score(y_test,y_pred2))"
      ]
    },
    {
      "cell_type": "code",
      "execution_count": null,
      "id": "e8d27f25",
      "metadata": {
        "id": "e8d27f25",
        "outputId": "4f9ac4a5-ed52-4f13-d18c-e74303b2a735"
      },
      "outputs": [
        {
          "name": "stdout",
          "output_type": "stream",
          "text": [
            "0.971953578336557\n",
            "[[894   2]\n",
            " [ 27 111]]\n",
            "0.9823008849557522\n"
          ]
        }
      ],
      "source": [
        "bnb.fit(X_train,y_train)\n",
        "y_pred3 = bnb.predict(X_test)\n",
        "print (accuracy_score(y_test,y_pred3))\n",
        "print(confusion_matrix(y_test,y_pred3))\n",
        "print(precision_score(y_test,y_pred3))"
      ]
    },
    {
      "cell_type": "markdown",
      "id": "6542e15a",
      "metadata": {
        "id": "6542e15a"
      },
      "source": [
        "# tfidf ->mnb"
      ]
    },
    {
      "cell_type": "code",
      "execution_count": null,
      "id": "47a3eb9a",
      "metadata": {
        "id": "47a3eb9a",
        "outputId": "ecd2beee-101d-440d-baf0-0ed5ced3b73b"
      },
      "outputs": [
        {
          "name": "stdout",
          "output_type": "stream",
          "text": [
            "Requirement already satisfied: scikit-learn in e:\\anaconda\\lib\\site-packages (1.3.2)\n",
            "Requirement already satisfied: joblib>=1.1.1 in e:\\anaconda\\lib\\site-packages (from scikit-learn) (1.3.2)\n",
            "Requirement already satisfied: numpy<2.0,>=1.17.3 in e:\\anaconda\\lib\\site-packages (from scikit-learn) (1.20.1)\n",
            "Requirement already satisfied: threadpoolctl>=2.0.0 in e:\\anaconda\\lib\\site-packages (from scikit-learn) (2.1.0)\n",
            "Requirement already satisfied: scipy>=1.5.0 in e:\\anaconda\\lib\\site-packages (from scikit-learn) (1.6.2)\n",
            "Note: you may need to restart the kernel to use updated packages.\n"
          ]
        }
      ],
      "source": [
        "pip install --upgrade scikit-learn"
      ]
    },
    {
      "cell_type": "code",
      "execution_count": null,
      "id": "4f33f5bd",
      "metadata": {
        "id": "4f33f5bd",
        "outputId": "24fe3dee-8027-40bc-ea45-5c6a19541acf"
      },
      "outputs": [
        {
          "name": "stdout",
          "output_type": "stream",
          "text": [
            "Requirement already satisfied: xgboost in e:\\anaconda\\lib\\site-packages (2.0.3)\n",
            "Requirement already satisfied: numpy in e:\\anaconda\\lib\\site-packages (from xgboost) (1.20.1)\n",
            "Requirement already satisfied: scipy in e:\\anaconda\\lib\\site-packages (from xgboost) (1.6.2)\n",
            "Note: you may need to restart the kernel to use updated packages.\n"
          ]
        }
      ],
      "source": [
        "pip install xgboost"
      ]
    },
    {
      "cell_type": "code",
      "execution_count": null,
      "id": "2c07cc16",
      "metadata": {
        "scrolled": true,
        "id": "2c07cc16"
      },
      "outputs": [],
      "source": [
        "from sklearn.linear_model import LogisticRegression\n",
        "from sklearn.svm import SVC\n",
        "from sklearn.naive_bayes import MultinomialNB\n",
        "from sklearn.tree import DecisionTreeClassifier\n",
        "from sklearn.neighbors import KNeighborsClassifier\n",
        "from sklearn.ensemble import RandomForestClassifier\n",
        "from sklearn.ensemble import AdaBoostClassifier\n",
        "from sklearn.ensemble import BaggingClassifier\n",
        "from sklearn.ensemble import ExtraTreesClassifier\n",
        "from sklearn.ensemble import GradientBoostingClassifier\n",
        "from xgboost import XGBClassifier"
      ]
    },
    {
      "cell_type": "code",
      "execution_count": null,
      "id": "0b630359",
      "metadata": {
        "id": "0b630359"
      },
      "outputs": [],
      "source": [
        "svc = SVC(kernel='sigmoid', gamma=1.0)\n",
        "knc = KNeighborsClassifier()\n",
        "mnb = MultinomialNB()\n",
        "dtc = DecisionTreeClassifier(max_depth=5)\n",
        "lrc = LogisticRegression(solver='liblinear', penalty='l1')\n",
        "rfc = RandomForestClassifier(n_estimators=50, random_state=2)\n",
        "abc = AdaBoostClassifier(n_estimators=50, random_state=2)\n",
        "bc = BaggingClassifier(n_estimators=50, random_state=2)\n",
        "etc = ExtraTreesClassifier(n_estimators=50, random_state=2)\n",
        "gbdt = GradientBoostingClassifier(n_estimators=50,random_state=2)\n",
        "xgb = XGBClassifier(n_estimators=50,random_state=2)"
      ]
    },
    {
      "cell_type": "code",
      "execution_count": null,
      "id": "227b77f9",
      "metadata": {
        "id": "227b77f9"
      },
      "outputs": [],
      "source": [
        "clfs = {\n",
        "    'SVC' : svc,\n",
        "    'KN' : knc,\n",
        "    'NB': mnb,\n",
        "    'DT': dtc,\n",
        "    'LR': lrc,\n",
        "    'RF': rfc,\n",
        "}"
      ]
    },
    {
      "cell_type": "code",
      "execution_count": null,
      "id": "773d4239",
      "metadata": {
        "id": "773d4239"
      },
      "outputs": [],
      "source": [
        "\n",
        "def train_classifier(clf,X_train,y_train,X_test,y_test):\n",
        "    clf.fit(X_train,y_train)\n",
        "    y_pred = clf.predict(X_test)\n",
        "    accuracy = accuracy_score(y_test,y_pred)\n",
        "    precision = precision_score(y_test,y_pred)\n",
        "\n",
        "    return accuracy,precision"
      ]
    },
    {
      "cell_type": "code",
      "execution_count": null,
      "id": "44e41495",
      "metadata": {
        "id": "44e41495",
        "outputId": "a6f29fa2-91fa-4ebc-c2ae-0f3e55ab229a"
      },
      "outputs": [
        {
          "data": {
            "text/plain": [
              "(0.9729206963249516, 0.9741379310344828)"
            ]
          },
          "execution_count": 72,
          "metadata": {},
          "output_type": "execute_result"
        }
      ],
      "source": [
        "train_classifier(svc,X_train,y_train,X_test,y_test)"
      ]
    },
    {
      "cell_type": "code",
      "execution_count": null,
      "id": "2f1e84da",
      "metadata": {
        "id": "2f1e84da",
        "outputId": "d9491750-1401-4509-e4e5-6959cca05365"
      },
      "outputs": [
        {
          "name": "stdout",
          "output_type": "stream",
          "text": [
            "For  SVC\n",
            "Accuracy -  0.9729206963249516\n",
            "Precision -  0.9741379310344828\n",
            "For  KN\n",
            "Accuracy -  0.9003868471953579\n",
            "Precision -  1.0\n",
            "For  NB\n",
            "Accuracy -  0.9593810444874274\n",
            "Precision -  1.0\n",
            "For  DT\n",
            "Accuracy -  0.9361702127659575\n",
            "Precision -  0.8461538461538461\n",
            "For  LR\n",
            "Accuracy -  0.9516441005802708\n",
            "Precision -  0.94\n",
            "For  RF\n",
            "Accuracy -  0.9700193423597679\n",
            "Precision -  0.9908256880733946\n"
          ]
        }
      ],
      "source": [
        "accuracy_scores = []\n",
        "precision_scores = []\n",
        "\n",
        "for name,clf in clfs.items():\n",
        "\n",
        "    current_accuracy,current_precision = train_classifier(clf, X_train,y_train,X_test,y_test)\n",
        "\n",
        "    print(\"For \",name)\n",
        "    print(\"Accuracy - \",current_accuracy)\n",
        "    print(\"Precision - \",current_precision)\n",
        "\n",
        "    accuracy_scores.append(current_accuracy)\n",
        "    precision_scores.append(current_precision)"
      ]
    },
    {
      "cell_type": "code",
      "execution_count": null,
      "id": "5619c923",
      "metadata": {
        "id": "5619c923"
      },
      "outputs": [],
      "source": [
        "performance_df = pd.DataFrame({'Algorithm':clfs.keys(),'Accuracy':accuracy_scores,'Precision':precision_scores}).sort_values('Precision',ascending=False)"
      ]
    },
    {
      "cell_type": "code",
      "execution_count": null,
      "id": "911eb7a9",
      "metadata": {
        "id": "911eb7a9",
        "outputId": "589a232e-e836-493f-cea5-e4c379a960c9"
      },
      "outputs": [
        {
          "data": {
            "text/html": [
              "<div>\n",
              "<style scoped>\n",
              "    .dataframe tbody tr th:only-of-type {\n",
              "        vertical-align: middle;\n",
              "    }\n",
              "\n",
              "    .dataframe tbody tr th {\n",
              "        vertical-align: top;\n",
              "    }\n",
              "\n",
              "    .dataframe thead th {\n",
              "        text-align: right;\n",
              "    }\n",
              "</style>\n",
              "<table border=\"1\" class=\"dataframe\">\n",
              "  <thead>\n",
              "    <tr style=\"text-align: right;\">\n",
              "      <th></th>\n",
              "      <th>Algorithm</th>\n",
              "      <th>Accuracy</th>\n",
              "      <th>Precision</th>\n",
              "    </tr>\n",
              "  </thead>\n",
              "  <tbody>\n",
              "    <tr>\n",
              "      <th>1</th>\n",
              "      <td>KN</td>\n",
              "      <td>0.900387</td>\n",
              "      <td>1.000000</td>\n",
              "    </tr>\n",
              "    <tr>\n",
              "      <th>2</th>\n",
              "      <td>NB</td>\n",
              "      <td>0.959381</td>\n",
              "      <td>1.000000</td>\n",
              "    </tr>\n",
              "    <tr>\n",
              "      <th>5</th>\n",
              "      <td>RF</td>\n",
              "      <td>0.970019</td>\n",
              "      <td>0.990826</td>\n",
              "    </tr>\n",
              "    <tr>\n",
              "      <th>0</th>\n",
              "      <td>SVC</td>\n",
              "      <td>0.972921</td>\n",
              "      <td>0.974138</td>\n",
              "    </tr>\n",
              "    <tr>\n",
              "      <th>4</th>\n",
              "      <td>LR</td>\n",
              "      <td>0.951644</td>\n",
              "      <td>0.940000</td>\n",
              "    </tr>\n",
              "    <tr>\n",
              "      <th>3</th>\n",
              "      <td>DT</td>\n",
              "      <td>0.936170</td>\n",
              "      <td>0.846154</td>\n",
              "    </tr>\n",
              "  </tbody>\n",
              "</table>\n",
              "</div>"
            ],
            "text/plain": [
              "  Algorithm  Accuracy  Precision\n",
              "1        KN  0.900387   1.000000\n",
              "2        NB  0.959381   1.000000\n",
              "5        RF  0.970019   0.990826\n",
              "0       SVC  0.972921   0.974138\n",
              "4        LR  0.951644   0.940000\n",
              "3        DT  0.936170   0.846154"
            ]
          },
          "execution_count": 75,
          "metadata": {},
          "output_type": "execute_result"
        }
      ],
      "source": [
        "performance_df"
      ]
    },
    {
      "cell_type": "code",
      "execution_count": null,
      "id": "2ecfb519",
      "metadata": {
        "id": "2ecfb519"
      },
      "outputs": [],
      "source": [
        "performance_df1 = pd.melt(performance_df, id_vars = \"Algorithm\")"
      ]
    },
    {
      "cell_type": "code",
      "execution_count": null,
      "id": "ef1a5426",
      "metadata": {
        "id": "ef1a5426",
        "outputId": "6fdea7a9-baf8-452d-e679-7081ca01b9bc"
      },
      "outputs": [
        {
          "data": {
            "text/html": [
              "<div>\n",
              "<style scoped>\n",
              "    .dataframe tbody tr th:only-of-type {\n",
              "        vertical-align: middle;\n",
              "    }\n",
              "\n",
              "    .dataframe tbody tr th {\n",
              "        vertical-align: top;\n",
              "    }\n",
              "\n",
              "    .dataframe thead th {\n",
              "        text-align: right;\n",
              "    }\n",
              "</style>\n",
              "<table border=\"1\" class=\"dataframe\">\n",
              "  <thead>\n",
              "    <tr style=\"text-align: right;\">\n",
              "      <th></th>\n",
              "      <th>Algorithm</th>\n",
              "      <th>variable</th>\n",
              "      <th>value</th>\n",
              "    </tr>\n",
              "  </thead>\n",
              "  <tbody>\n",
              "    <tr>\n",
              "      <th>0</th>\n",
              "      <td>KN</td>\n",
              "      <td>Accuracy</td>\n",
              "      <td>0.900387</td>\n",
              "    </tr>\n",
              "    <tr>\n",
              "      <th>1</th>\n",
              "      <td>NB</td>\n",
              "      <td>Accuracy</td>\n",
              "      <td>0.959381</td>\n",
              "    </tr>\n",
              "    <tr>\n",
              "      <th>2</th>\n",
              "      <td>RF</td>\n",
              "      <td>Accuracy</td>\n",
              "      <td>0.970019</td>\n",
              "    </tr>\n",
              "    <tr>\n",
              "      <th>3</th>\n",
              "      <td>SVC</td>\n",
              "      <td>Accuracy</td>\n",
              "      <td>0.972921</td>\n",
              "    </tr>\n",
              "    <tr>\n",
              "      <th>4</th>\n",
              "      <td>LR</td>\n",
              "      <td>Accuracy</td>\n",
              "      <td>0.951644</td>\n",
              "    </tr>\n",
              "    <tr>\n",
              "      <th>5</th>\n",
              "      <td>DT</td>\n",
              "      <td>Accuracy</td>\n",
              "      <td>0.936170</td>\n",
              "    </tr>\n",
              "    <tr>\n",
              "      <th>6</th>\n",
              "      <td>KN</td>\n",
              "      <td>Precision</td>\n",
              "      <td>1.000000</td>\n",
              "    </tr>\n",
              "    <tr>\n",
              "      <th>7</th>\n",
              "      <td>NB</td>\n",
              "      <td>Precision</td>\n",
              "      <td>1.000000</td>\n",
              "    </tr>\n",
              "    <tr>\n",
              "      <th>8</th>\n",
              "      <td>RF</td>\n",
              "      <td>Precision</td>\n",
              "      <td>0.990826</td>\n",
              "    </tr>\n",
              "    <tr>\n",
              "      <th>9</th>\n",
              "      <td>SVC</td>\n",
              "      <td>Precision</td>\n",
              "      <td>0.974138</td>\n",
              "    </tr>\n",
              "    <tr>\n",
              "      <th>10</th>\n",
              "      <td>LR</td>\n",
              "      <td>Precision</td>\n",
              "      <td>0.940000</td>\n",
              "    </tr>\n",
              "    <tr>\n",
              "      <th>11</th>\n",
              "      <td>DT</td>\n",
              "      <td>Precision</td>\n",
              "      <td>0.846154</td>\n",
              "    </tr>\n",
              "  </tbody>\n",
              "</table>\n",
              "</div>"
            ],
            "text/plain": [
              "   Algorithm   variable     value\n",
              "0         KN   Accuracy  0.900387\n",
              "1         NB   Accuracy  0.959381\n",
              "2         RF   Accuracy  0.970019\n",
              "3        SVC   Accuracy  0.972921\n",
              "4         LR   Accuracy  0.951644\n",
              "5         DT   Accuracy  0.936170\n",
              "6         KN  Precision  1.000000\n",
              "7         NB  Precision  1.000000\n",
              "8         RF  Precision  0.990826\n",
              "9        SVC  Precision  0.974138\n",
              "10        LR  Precision  0.940000\n",
              "11        DT  Precision  0.846154"
            ]
          },
          "execution_count": 77,
          "metadata": {},
          "output_type": "execute_result"
        }
      ],
      "source": [
        "performance_df1"
      ]
    },
    {
      "cell_type": "code",
      "execution_count": null,
      "id": "1488433f",
      "metadata": {
        "id": "1488433f",
        "outputId": "2a79b613-7aa4-4244-c15e-16c42ffaa1e5"
      },
      "outputs": [
        {
          "data": {
            "image/png": "[encoded data removed]",
            "text/plain": [
              "<Figure size 441.75x360 with 1 Axes>"
            ]
          },
          "metadata": {
            "needs_background": "light"
          },
          "output_type": "display_data"
        }
      ],
      "source": [
        "sns.catplot(x = 'Algorithm', y='value',\n",
        "               hue = 'variable',data=performance_df1, kind='bar',height=5)\n",
        "plt.ylim(0.5,1.0)\n",
        "plt.xticks(rotation='vertical')\n",
        "plt.show()"
      ]
    },
    {
      "cell_type": "code",
      "execution_count": null,
      "id": "bfb2490c",
      "metadata": {
        "id": "bfb2490c"
      },
      "outputs": [],
      "source": [
        "temp_df = pd.DataFrame({'Algorithm':clfs.keys(),'Accuracy_max_ft_3000':accuracy_scores,'Precision_max_ft_3000':precision_scores}).sort_values('Precision_max_ft_3000',ascending=False)"
      ]
    },
    {
      "cell_type": "code",
      "execution_count": null,
      "id": "4b220026",
      "metadata": {
        "id": "4b220026"
      },
      "outputs": [],
      "source": [
        "temp_df = pd.DataFrame({'Algorithm':clfs.keys(),'Accuracy_scaling':accuracy_scores,'Precision_scaling':precision_scores}).sort_values('Precision_scaling',ascending=False)"
      ]
    },
    {
      "cell_type": "code",
      "execution_count": null,
      "id": "64339405",
      "metadata": {
        "id": "64339405"
      },
      "outputs": [],
      "source": [
        "new_df = performance_df.merge(temp_df,on='Algorithm')"
      ]
    },
    {
      "cell_type": "code",
      "execution_count": null,
      "id": "60681e81",
      "metadata": {
        "id": "60681e81"
      },
      "outputs": [],
      "source": [
        "new_df_scaled = new_df.merge(temp_df,on='Algorithm')"
      ]
    },
    {
      "cell_type": "code",
      "execution_count": null,
      "id": "1efaf39f",
      "metadata": {
        "id": "1efaf39f"
      },
      "outputs": [],
      "source": [
        "temp_df = pd.DataFrame({'Algorithm':clfs.keys(),'Accuracy_num_chars':accuracy_scores,'Precision_num_chars':precision_scores}).sort_values('Precision_num_chars',ascending=False)"
      ]
    },
    {
      "cell_type": "code",
      "execution_count": null,
      "id": "bc0d190c",
      "metadata": {
        "id": "bc0d190c",
        "outputId": "e1143525-cd8d-4eea-bec9-c5aaa2b33a2a"
      },
      "outputs": [
        {
          "data": {
            "text/html": [
              "<div>\n",
              "<style scoped>\n",
              "    .dataframe tbody tr th:only-of-type {\n",
              "        vertical-align: middle;\n",
              "    }\n",
              "\n",
              "    .dataframe tbody tr th {\n",
              "        vertical-align: top;\n",
              "    }\n",
              "\n",
              "    .dataframe thead th {\n",
              "        text-align: right;\n",
              "    }\n",
              "</style>\n",
              "<table border=\"1\" class=\"dataframe\">\n",
              "  <thead>\n",
              "    <tr style=\"text-align: right;\">\n",
              "      <th></th>\n",
              "      <th>Algorithm</th>\n",
              "      <th>Accuracy</th>\n",
              "      <th>Precision</th>\n",
              "      <th>Accuracy_scaling_x</th>\n",
              "      <th>Precision_scaling_x</th>\n",
              "      <th>Accuracy_scaling_y</th>\n",
              "      <th>Precision_scaling_y</th>\n",
              "      <th>Accuracy_num_chars</th>\n",
              "      <th>Precision_num_chars</th>\n",
              "    </tr>\n",
              "  </thead>\n",
              "  <tbody>\n",
              "    <tr>\n",
              "      <th>0</th>\n",
              "      <td>KN</td>\n",
              "      <td>0.900387</td>\n",
              "      <td>1.000000</td>\n",
              "      <td>0.900387</td>\n",
              "      <td>1.000000</td>\n",
              "      <td>0.900387</td>\n",
              "      <td>1.000000</td>\n",
              "      <td>0.900387</td>\n",
              "      <td>1.000000</td>\n",
              "    </tr>\n",
              "    <tr>\n",
              "      <th>1</th>\n",
              "      <td>NB</td>\n",
              "      <td>0.959381</td>\n",
              "      <td>1.000000</td>\n",
              "      <td>0.959381</td>\n",
              "      <td>1.000000</td>\n",
              "      <td>0.959381</td>\n",
              "      <td>1.000000</td>\n",
              "      <td>0.959381</td>\n",
              "      <td>1.000000</td>\n",
              "    </tr>\n",
              "    <tr>\n",
              "      <th>2</th>\n",
              "      <td>RF</td>\n",
              "      <td>0.970019</td>\n",
              "      <td>0.990826</td>\n",
              "      <td>0.970019</td>\n",
              "      <td>0.990826</td>\n",
              "      <td>0.970019</td>\n",
              "      <td>0.990826</td>\n",
              "      <td>0.970019</td>\n",
              "      <td>0.990826</td>\n",
              "    </tr>\n",
              "    <tr>\n",
              "      <th>3</th>\n",
              "      <td>SVC</td>\n",
              "      <td>0.972921</td>\n",
              "      <td>0.974138</td>\n",
              "      <td>0.972921</td>\n",
              "      <td>0.974138</td>\n",
              "      <td>0.972921</td>\n",
              "      <td>0.974138</td>\n",
              "      <td>0.972921</td>\n",
              "      <td>0.974138</td>\n",
              "    </tr>\n",
              "    <tr>\n",
              "      <th>4</th>\n",
              "      <td>LR</td>\n",
              "      <td>0.951644</td>\n",
              "      <td>0.940000</td>\n",
              "      <td>0.951644</td>\n",
              "      <td>0.940000</td>\n",
              "      <td>0.951644</td>\n",
              "      <td>0.940000</td>\n",
              "      <td>0.951644</td>\n",
              "      <td>0.940000</td>\n",
              "    </tr>\n",
              "    <tr>\n",
              "      <th>5</th>\n",
              "      <td>DT</td>\n",
              "      <td>0.936170</td>\n",
              "      <td>0.846154</td>\n",
              "      <td>0.936170</td>\n",
              "      <td>0.846154</td>\n",
              "      <td>0.936170</td>\n",
              "      <td>0.846154</td>\n",
              "      <td>0.936170</td>\n",
              "      <td>0.846154</td>\n",
              "    </tr>\n",
              "  </tbody>\n",
              "</table>\n",
              "</div>"
            ],
            "text/plain": [
              "  Algorithm  Accuracy  Precision  Accuracy_scaling_x  Precision_scaling_x  \\\n",
              "0        KN  0.900387   1.000000            0.900387             1.000000   \n",
              "1        NB  0.959381   1.000000            0.959381             1.000000   \n",
              "2        RF  0.970019   0.990826            0.970019             0.990826   \n",
              "3       SVC  0.972921   0.974138            0.972921             0.974138   \n",
              "4        LR  0.951644   0.940000            0.951644             0.940000   \n",
              "5        DT  0.936170   0.846154            0.936170             0.846154   \n",
              "\n",
              "   Accuracy_scaling_y  Precision_scaling_y  Accuracy_num_chars  \\\n",
              "0            0.900387             1.000000            0.900387   \n",
              "1            0.959381             1.000000            0.959381   \n",
              "2            0.970019             0.990826            0.970019   \n",
              "3            0.972921             0.974138            0.972921   \n",
              "4            0.951644             0.940000            0.951644   \n",
              "5            0.936170             0.846154            0.936170   \n",
              "\n",
              "   Precision_num_chars  \n",
              "0             1.000000  \n",
              "1             1.000000  \n",
              "2             0.990826  \n",
              "3             0.974138  \n",
              "4             0.940000  \n",
              "5             0.846154  "
            ]
          },
          "execution_count": 84,
          "metadata": {},
          "output_type": "execute_result"
        }
      ],
      "source": [
        "new_df_scaled.merge(temp_df,on='Algorithm')"
      ]
    },
    {
      "cell_type": "code",
      "execution_count": null,
      "id": "3e5dfee2",
      "metadata": {
        "id": "3e5dfee2"
      },
      "outputs": [],
      "source": [
        "# Voting Classifier\n",
        "svc = SVC(kernel='sigmoid', gamma=1.0,probability=True)\n",
        "mnb = MultinomialNB()\n",
        "etc = ExtraTreesClassifier(n_estimators=50, random_state=2)\n",
        "\n",
        "from sklearn.ensemble import VotingClassifier"
      ]
    },
    {
      "cell_type": "code",
      "execution_count": null,
      "id": "58a4f995",
      "metadata": {
        "id": "58a4f995"
      },
      "outputs": [],
      "source": [
        "voting = VotingClassifier(estimators=[('svm', svc), ('nb', mnb), ('et', etc)],voting='soft')"
      ]
    },
    {
      "cell_type": "code",
      "execution_count": null,
      "id": "a59e1404",
      "metadata": {
        "id": "a59e1404",
        "outputId": "098f402f-4ffd-477c-842e-59937cae232d"
      },
      "outputs": [
        {
          "data": {
            "text/html": [
              "<style>#sk-container-id-1 {color: black;}#sk-container-id-1 pre{padding: 0;}#sk-container-id-1 div.sk-toggleable {background-color: white;}#sk-container-id-1 label.sk-toggleable__label {cursor: pointer;display: block;width: 100%;margin-bottom: 0;padding: 0.3em;box-sizing: border-box;text-align: center;}#sk-container-id-1 label.sk-toggleable__label-arrow:before {content: \"▸\";float: left;margin-right: 0.25em;color: #696969;}#sk-container-id-1 label.sk-toggleable__label-arrow:hover:before {color: black;}#sk-container-id-1 div.sk-estimator:hover label.sk-toggleable__label-arrow:before {color: black;}#sk-container-id-1 div.sk-toggleable__content {max-height: 0;max-width: 0;overflow: hidden;text-align: left;background-color: #f0f8ff;}#sk-container-id-1 div.sk-toggleable__content pre {margin: 0.2em;color: black;border-radius: 0.25em;background-color: #f0f8ff;}#sk-container-id-1 input.sk-toggleable__control:checked~div.sk-toggleable__content {max-height: 200px;max-width: 100%;overflow: auto;}#sk-container-id-1 input.sk-toggleable__control:checked~label.sk-toggleable__label-arrow:before {content: \"▾\";}#sk-container-id-1 div.sk-estimator input.sk-toggleable__control:checked~label.sk-toggleable__label {background-color: #d4ebff;}#sk-container-id-1 div.sk-label input.sk-toggleable__control:checked~label.sk-toggleable__label {background-color: #d4ebff;}#sk-container-id-1 input.sk-hidden--visually {border: 0;clip: rect(1px 1px 1px 1px);clip: rect(1px, 1px, 1px, 1px);height: 1px;margin: -1px;overflow: hidden;padding: 0;position: absolute;width: 1px;}#sk-container-id-1 div.sk-estimator {font-family: monospace;background-color: #f0f8ff;border: 1px dotted black;border-radius: 0.25em;box-sizing: border-box;margin-bottom: 0.5em;}#sk-container-id-1 div.sk-estimator:hover {background-color: #d4ebff;}#sk-container-id-1 div.sk-parallel-item::after {content: \"\";width: 100%;border-bottom: 1px solid gray;flex-grow: 1;}#sk-container-id-1 div.sk-label:hover label.sk-toggleable__label {background-color: #d4ebff;}#sk-container-id-1 div.sk-serial::before {content: \"\";position: absolute;border-left: 1px solid gray;box-sizing: border-box;top: 0;bottom: 0;left: 50%;z-index: 0;}#sk-container-id-1 div.sk-serial {display: flex;flex-direction: column;align-items: center;background-color: white;padding-right: 0.2em;padding-left: 0.2em;position: relative;}#sk-container-id-1 div.sk-item {position: relative;z-index: 1;}#sk-container-id-1 div.sk-parallel {display: flex;align-items: stretch;justify-content: center;background-color: white;position: relative;}#sk-container-id-1 div.sk-item::before, #sk-container-id-1 div.sk-parallel-item::before {content: \"\";position: absolute;border-left: 1px solid gray;box-sizing: border-box;top: 0;bottom: 0;left: 50%;z-index: -1;}#sk-container-id-1 div.sk-parallel-item {display: flex;flex-direction: column;z-index: 1;position: relative;background-color: white;}#sk-container-id-1 div.sk-parallel-item:first-child::after {align-self: flex-end;width: 50%;}#sk-container-id-1 div.sk-parallel-item:last-child::after {align-self: flex-start;width: 50%;}#sk-container-id-1 div.sk-parallel-item:only-child::after {width: 0;}#sk-container-id-1 div.sk-dashed-wrapped {border: 1px dashed gray;margin: 0 0.4em 0.5em 0.4em;box-sizing: border-box;padding-bottom: 0.4em;background-color: white;}#sk-container-id-1 div.sk-label label {font-family: monospace;font-weight: bold;display: inline-block;line-height: 1.2em;}#sk-container-id-1 div.sk-label-container {text-align: center;}#sk-container-id-1 div.sk-container {/* jupyter's `normalize.less` sets `[hidden] { display: none; }` but bootstrap.min.css set `[hidden] { display: none !important; }` so we also need the `!important` here to be able to override the default hidden behavior on the sphinx rendered scikit-learn.org. See: https://github.com/scikit-learn/scikit-learn/issues/21755 */display: inline-block !important;position: relative;}#sk-container-id-1 div.sk-text-repr-fallback {display: none;}</style><div id=\"sk-container-id-1\" class=\"sk-top-container\"><div class=\"sk-text-repr-fallback\"><pre>VotingClassifier(estimators=[(&#x27;svm&#x27;,\n",
              "                              SVC(gamma=1.0, kernel=&#x27;sigmoid&#x27;,\n",
              "                                  probability=True)),\n",
              "                             (&#x27;nb&#x27;, MultinomialNB()),\n",
              "                             (&#x27;et&#x27;,\n",
              "                              ExtraTreesClassifier(n_estimators=50,\n",
              "                                                   random_state=2))],\n",
              "                 voting=&#x27;soft&#x27;)</pre><b>In a Jupyter environment, please rerun this cell to show the HTML representation or trust the notebook. <br />On GitHub, the HTML representation is unable to render, please try loading this page with nbviewer.org.</b></div><div class=\"sk-container\" hidden><div class=\"sk-item sk-dashed-wrapped\"><div class=\"sk-label-container\"><div class=\"sk-label sk-toggleable\"><input class=\"sk-toggleable__control sk-hidden--visually\" id=\"sk-estimator-id-1\" type=\"checkbox\" ><label for=\"sk-estimator-id-1\" class=\"sk-toggleable__label sk-toggleable__label-arrow\">VotingClassifier</label><div class=\"sk-toggleable__content\"><pre>VotingClassifier(estimators=[(&#x27;svm&#x27;,\n",
              "                              SVC(gamma=1.0, kernel=&#x27;sigmoid&#x27;,\n",
              "                                  probability=True)),\n",
              "                             (&#x27;nb&#x27;, MultinomialNB()),\n",
              "                             (&#x27;et&#x27;,\n",
              "                              ExtraTreesClassifier(n_estimators=50,\n",
              "                                                   random_state=2))],\n",
              "                 voting=&#x27;soft&#x27;)</pre></div></div></div><div class=\"sk-parallel\"><div class=\"sk-parallel-item\"><div class=\"sk-item\"><div class=\"sk-label-container\"><div class=\"sk-label sk-toggleable\"><label>svm</label></div></div><div class=\"sk-serial\"><div class=\"sk-item\"><div class=\"sk-estimator sk-toggleable\"><input class=\"sk-toggleable__control sk-hidden--visually\" id=\"sk-estimator-id-2\" type=\"checkbox\" ><label for=\"sk-estimator-id-2\" class=\"sk-toggleable__label sk-toggleable__label-arrow\">SVC</label><div class=\"sk-toggleable__content\"><pre>SVC(gamma=1.0, kernel=&#x27;sigmoid&#x27;, probability=True)</pre></div></div></div></div></div></div><div class=\"sk-parallel-item\"><div class=\"sk-item\"><div class=\"sk-label-container\"><div class=\"sk-label sk-toggleable\"><label>nb</label></div></div><div class=\"sk-serial\"><div class=\"sk-item\"><div class=\"sk-estimator sk-toggleable\"><input class=\"sk-toggleable__control sk-hidden--visually\" id=\"sk-estimator-id-3\" type=\"checkbox\" ><label for=\"sk-estimator-id-3\" class=\"sk-toggleable__label sk-toggleable__label-arrow\">MultinomialNB</label><div class=\"sk-toggleable__content\"><pre>MultinomialNB()</pre></div></div></div></div></div></div><div class=\"sk-parallel-item\"><div class=\"sk-item\"><div class=\"sk-label-container\"><div class=\"sk-label sk-toggleable\"><label>et</label></div></div><div class=\"sk-serial\"><div class=\"sk-item\"><div class=\"sk-estimator sk-toggleable\"><input class=\"sk-toggleable__control sk-hidden--visually\" id=\"sk-estimator-id-4\" type=\"checkbox\" ><label for=\"sk-estimator-id-4\" class=\"sk-toggleable__label sk-toggleable__label-arrow\">ExtraTreesClassifier</label><div class=\"sk-toggleable__content\"><pre>ExtraTreesClassifier(n_estimators=50, random_state=2)</pre></div></div></div></div></div></div></div></div></div></div>"
            ],
            "text/plain": [
              "VotingClassifier(estimators=[('svm',\n",
              "                              SVC(gamma=1.0, kernel='sigmoid',\n",
              "                                  probability=True)),\n",
              "                             ('nb', MultinomialNB()),\n",
              "                             ('et',\n",
              "                              ExtraTreesClassifier(n_estimators=50,\n",
              "                                                   random_state=2))],\n",
              "                 voting='soft')"
            ]
          },
          "execution_count": 87,
          "metadata": {},
          "output_type": "execute_result"
        }
      ],
      "source": [
        "voting.fit(X_train,y_train)"
      ]
    },
    {
      "cell_type": "code",
      "execution_count": null,
      "id": "9c941f90",
      "metadata": {
        "id": "9c941f90",
        "outputId": "d7d2814c-09b0-4dac-cb75-b1e1a879fea4"
      },
      "outputs": [
        {
          "name": "stdout",
          "output_type": "stream",
          "text": [
            "Accuracy 0.9777562862669246\n",
            "Precision 0.9914529914529915\n"
          ]
        }
      ],
      "source": [
        "y_pred = voting.predict(X_test)\n",
        "print(\"Accuracy\",accuracy_score(y_test,y_pred))\n",
        "print(\"Precision\",precision_score(y_test,y_pred))"
      ]
    },
    {
      "cell_type": "code",
      "execution_count": null,
      "id": "0db9bf08",
      "metadata": {
        "id": "0db9bf08"
      },
      "outputs": [],
      "source": [
        "# Applying stacking\n",
        "estimators=[('svm', svc), ('nb', mnb), ('et', etc)]\n",
        "final_estimator=RandomForestClassifier()\n"
      ]
    },
    {
      "cell_type": "code",
      "execution_count": null,
      "id": "99fd3946",
      "metadata": {
        "id": "99fd3946"
      },
      "outputs": [],
      "source": [
        "from sklearn.ensemble import StackingClassifier"
      ]
    },
    {
      "cell_type": "code",
      "execution_count": null,
      "id": "53670e59",
      "metadata": {
        "id": "53670e59"
      },
      "outputs": [],
      "source": [
        "clf = StackingClassifier(estimators=estimators, final_estimator=final_estimator)"
      ]
    },
    {
      "cell_type": "code",
      "execution_count": null,
      "id": "030821c9",
      "metadata": {
        "id": "030821c9",
        "outputId": "b9446371-7b78-4bcc-a6b4-5f77644c7a5b"
      },
      "outputs": [
        {
          "name": "stdout",
          "output_type": "stream",
          "text": [
            "Accuracy 0.9796905222437138\n",
            "Precision 0.9398496240601504\n"
          ]
        }
      ],
      "source": [
        "clf.fit(X_train,y_train)\n",
        "y_pred = clf.predict(X_test)\n",
        "print(\"Accuracy\",accuracy_score(y_test,y_pred))\n",
        "print(\"Precision\",precision_score(y_test,y_pred))"
      ]
    },
    {
      "cell_type": "code",
      "execution_count": null,
      "id": "a6285f6c",
      "metadata": {
        "id": "a6285f6c"
      },
      "outputs": [],
      "source": [
        "import pickle\n",
        "pickle.dump(tfid,open('vectorizer.pkl','wb'))\n",
        "pickle.dump(mnb,open('model.pkl','wb'))"
      ]
    },
    {
      "cell_type": "code",
      "execution_count": null,
      "id": "a3213bf5",
      "metadata": {
        "id": "a3213bf5"
      },
      "outputs": [],
      "source": []
    }
  ],
  "metadata": {
    "kernelspec": {
      "display_name": "Python 3",
      "name": "python3"
    },
    "language_info": {
      "codemirror_mode": {
        "name": "ipython",
        "version": 3
      },
      "file_extension": ".py",
      "mimetype": "text/x-python",
      "name": "python",
      "nbconvert_exporter": "python",
      "pygments_lexer": "ipython3",
      "version": "3.8.8"
    },
    "colab": {
      "provenance": [],
      "include_colab_link": true
    }
  },
  "nbformat": 4,
  "nbformat_minor": 5
}